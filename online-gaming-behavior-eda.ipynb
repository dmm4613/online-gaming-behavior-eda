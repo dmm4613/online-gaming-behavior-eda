{
 "cells": [
  {
   "cell_type": "markdown",
   "metadata": {},
   "source": [
    "# Online Gaming Behavior EDA:\n",
    "## Descriptive and Inferntial Analyses"
   ]
  },
  {
   "cell_type": "markdown",
   "metadata": {},
   "source": [
    "dataset: [Kaggle](https://www.kaggle.com/datasets/rabieelkharoua/predict-online-gaming-behavior-dataset/data)"
   ]
  },
  {
   "cell_type": "markdown",
   "metadata": {},
   "source": [
    "____"
   ]
  },
  {
   "cell_type": "markdown",
   "metadata": {},
   "source": [
    "In terms of this analysis I do not care about PlayerID or InGamePurchases. Also, since theses are all varying games, PlayerLevel is very ambiguous and so is AchievementsUnlocks. One game could only have 10 achievements. A percentage value here would be more descriptive. Same goes for PlayerLevel. What does that mean in terms of any game. Level 100 might be max, where level 50 could max in another game. We will drop these values for all analyses moving forward, including the ML portioned Notebook."
   ]
  },
  {
   "cell_type": "markdown",
   "metadata": {},
   "source": [
    "____"
   ]
  },
  {
   "cell_type": "markdown",
   "metadata": {},
   "source": [
    "## Descriptive Analysis Questions\n",
    "### 1. Do Males or Females have a higher Engagement Level?\n",
    "### 2. How does engagement level break up vs. Play Time Hours?\n",
    "### 3. Do Males or Females have a higher average played time?\n",
    "### 4. What are the most played game genres based off this dataset?\n",
    "### 5. What are the typical game genres played, and which is played the most?\n",
    "### 6. How are the age brackets (15-24, 25-34, 35-44, 45+) represented across Male and Females?\n",
    "### 7. What are the typical difficulty levels for games played, and which is played the most?\n",
    "### 8. Which of those difficulty levels are played the most (Play Time Hours)?"
   ]
  },
  {
   "cell_type": "markdown",
   "metadata": {},
   "source": [
    "____"
   ]
  },
  {
   "cell_type": "markdown",
   "metadata": {},
   "source": [
    "## Inferential Analysis Questions\n",
    "### 1. Is there any significant difference in the types of difficulty games Males play vs. Women?\n",
    "### 2. Is there a link between Game Genre and Engagement Level?\n",
    "### 3. Does Time Played significantly impact enagement level?\n",
    "### 4. Does age impact time played?"
   ]
  },
  {
   "cell_type": "markdown",
   "metadata": {},
   "source": [
    "____"
   ]
  },
  {
   "cell_type": "code",
   "execution_count": 42,
   "metadata": {},
   "outputs": [],
   "source": [
    "import pandas as pd\n",
    "import numpy as np\n",
    "import matplotlib.pyplot as plt\n",
    "import seaborn as sns\n",
    "\n",
    "from scipy import stats\n",
    "from scipy.stats import pearsonr\n",
    "import statistics as stat\n",
    "import statsmodels.api as sm"
   ]
  },
  {
   "cell_type": "markdown",
   "metadata": {},
   "source": [
    "Read in the CSV file and look at the overall info of the dataset."
   ]
  },
  {
   "cell_type": "code",
   "execution_count": 43,
   "metadata": {},
   "outputs": [
    {
     "name": "stdout",
     "output_type": "stream",
     "text": [
      "<class 'pandas.core.frame.DataFrame'>\n",
      "RangeIndex: 40034 entries, 0 to 40033\n",
      "Data columns (total 13 columns):\n",
      " #   Column                     Non-Null Count  Dtype  \n",
      "---  ------                     --------------  -----  \n",
      " 0   PlayerID                   40034 non-null  int64  \n",
      " 1   Age                        40034 non-null  int64  \n",
      " 2   Gender                     40034 non-null  object \n",
      " 3   Location                   40034 non-null  object \n",
      " 4   GameGenre                  40034 non-null  object \n",
      " 5   PlayTimeHours              40034 non-null  float64\n",
      " 6   InGamePurchases            40034 non-null  int64  \n",
      " 7   GameDifficulty             40034 non-null  object \n",
      " 8   SessionsPerWeek            40034 non-null  int64  \n",
      " 9   AvgSessionDurationMinutes  40034 non-null  int64  \n",
      " 10  PlayerLevel                40034 non-null  int64  \n",
      " 11  AchievementsUnlocked       40034 non-null  int64  \n",
      " 12  EngagementLevel            40034 non-null  object \n",
      "dtypes: float64(1), int64(7), object(5)\n",
      "memory usage: 4.0+ MB\n"
     ]
    }
   ],
   "source": [
    "df = pd.read_csv('data/online_gaming_behavior.csv')\n",
    "df.info()"
   ]
  },
  {
   "cell_type": "markdown",
   "metadata": {},
   "source": [
    "No apparentl null values from above, but there might be some unknown 'nulls'\n",
    "\n",
    "Let's get an idea of our range of numerical values"
   ]
  },
  {
   "cell_type": "code",
   "execution_count": 44,
   "metadata": {},
   "outputs": [
    {
     "data": {
      "text/html": [
       "<div>\n",
       "<style scoped>\n",
       "    .dataframe tbody tr th:only-of-type {\n",
       "        vertical-align: middle;\n",
       "    }\n",
       "\n",
       "    .dataframe tbody tr th {\n",
       "        vertical-align: top;\n",
       "    }\n",
       "\n",
       "    .dataframe thead th {\n",
       "        text-align: right;\n",
       "    }\n",
       "</style>\n",
       "<table border=\"1\" class=\"dataframe\">\n",
       "  <thead>\n",
       "    <tr style=\"text-align: right;\">\n",
       "      <th></th>\n",
       "      <th>PlayerID</th>\n",
       "      <th>Age</th>\n",
       "      <th>PlayTimeHours</th>\n",
       "      <th>InGamePurchases</th>\n",
       "      <th>SessionsPerWeek</th>\n",
       "      <th>AvgSessionDurationMinutes</th>\n",
       "      <th>PlayerLevel</th>\n",
       "      <th>AchievementsUnlocked</th>\n",
       "    </tr>\n",
       "  </thead>\n",
       "  <tbody>\n",
       "    <tr>\n",
       "      <th>count</th>\n",
       "      <td>40034.000000</td>\n",
       "      <td>40034.000000</td>\n",
       "      <td>40034.000000</td>\n",
       "      <td>40034.000000</td>\n",
       "      <td>40034.000000</td>\n",
       "      <td>40034.000000</td>\n",
       "      <td>40034.000000</td>\n",
       "      <td>40034.000000</td>\n",
       "    </tr>\n",
       "    <tr>\n",
       "      <th>mean</th>\n",
       "      <td>29016.500000</td>\n",
       "      <td>31.992531</td>\n",
       "      <td>12.024365</td>\n",
       "      <td>0.200854</td>\n",
       "      <td>9.471774</td>\n",
       "      <td>94.792252</td>\n",
       "      <td>49.655568</td>\n",
       "      <td>24.526477</td>\n",
       "    </tr>\n",
       "    <tr>\n",
       "      <th>std</th>\n",
       "      <td>11556.964675</td>\n",
       "      <td>10.043227</td>\n",
       "      <td>6.914638</td>\n",
       "      <td>0.400644</td>\n",
       "      <td>5.763667</td>\n",
       "      <td>49.011375</td>\n",
       "      <td>28.588379</td>\n",
       "      <td>14.430726</td>\n",
       "    </tr>\n",
       "    <tr>\n",
       "      <th>min</th>\n",
       "      <td>9000.000000</td>\n",
       "      <td>15.000000</td>\n",
       "      <td>0.000115</td>\n",
       "      <td>0.000000</td>\n",
       "      <td>0.000000</td>\n",
       "      <td>10.000000</td>\n",
       "      <td>1.000000</td>\n",
       "      <td>0.000000</td>\n",
       "    </tr>\n",
       "    <tr>\n",
       "      <th>25%</th>\n",
       "      <td>19008.250000</td>\n",
       "      <td>23.000000</td>\n",
       "      <td>6.067501</td>\n",
       "      <td>0.000000</td>\n",
       "      <td>4.000000</td>\n",
       "      <td>52.000000</td>\n",
       "      <td>25.000000</td>\n",
       "      <td>12.000000</td>\n",
       "    </tr>\n",
       "    <tr>\n",
       "      <th>50%</th>\n",
       "      <td>29016.500000</td>\n",
       "      <td>32.000000</td>\n",
       "      <td>12.008002</td>\n",
       "      <td>0.000000</td>\n",
       "      <td>9.000000</td>\n",
       "      <td>95.000000</td>\n",
       "      <td>49.000000</td>\n",
       "      <td>25.000000</td>\n",
       "    </tr>\n",
       "    <tr>\n",
       "      <th>75%</th>\n",
       "      <td>39024.750000</td>\n",
       "      <td>41.000000</td>\n",
       "      <td>17.963831</td>\n",
       "      <td>0.000000</td>\n",
       "      <td>14.000000</td>\n",
       "      <td>137.000000</td>\n",
       "      <td>74.000000</td>\n",
       "      <td>37.000000</td>\n",
       "    </tr>\n",
       "    <tr>\n",
       "      <th>max</th>\n",
       "      <td>49033.000000</td>\n",
       "      <td>49.000000</td>\n",
       "      <td>23.999592</td>\n",
       "      <td>1.000000</td>\n",
       "      <td>19.000000</td>\n",
       "      <td>179.000000</td>\n",
       "      <td>99.000000</td>\n",
       "      <td>49.000000</td>\n",
       "    </tr>\n",
       "  </tbody>\n",
       "</table>\n",
       "</div>"
      ],
      "text/plain": [
       "           PlayerID           Age  PlayTimeHours  InGamePurchases  \\\n",
       "count  40034.000000  40034.000000   40034.000000     40034.000000   \n",
       "mean   29016.500000     31.992531      12.024365         0.200854   \n",
       "std    11556.964675     10.043227       6.914638         0.400644   \n",
       "min     9000.000000     15.000000       0.000115         0.000000   \n",
       "25%    19008.250000     23.000000       6.067501         0.000000   \n",
       "50%    29016.500000     32.000000      12.008002         0.000000   \n",
       "75%    39024.750000     41.000000      17.963831         0.000000   \n",
       "max    49033.000000     49.000000      23.999592         1.000000   \n",
       "\n",
       "       SessionsPerWeek  AvgSessionDurationMinutes   PlayerLevel  \\\n",
       "count     40034.000000               40034.000000  40034.000000   \n",
       "mean          9.471774                  94.792252     49.655568   \n",
       "std           5.763667                  49.011375     28.588379   \n",
       "min           0.000000                  10.000000      1.000000   \n",
       "25%           4.000000                  52.000000     25.000000   \n",
       "50%           9.000000                  95.000000     49.000000   \n",
       "75%          14.000000                 137.000000     74.000000   \n",
       "max          19.000000                 179.000000     99.000000   \n",
       "\n",
       "       AchievementsUnlocked  \n",
       "count          40034.000000  \n",
       "mean              24.526477  \n",
       "std               14.430726  \n",
       "min                0.000000  \n",
       "25%               12.000000  \n",
       "50%               25.000000  \n",
       "75%               37.000000  \n",
       "max               49.000000  "
      ]
     },
     "execution_count": 44,
     "metadata": {},
     "output_type": "execute_result"
    }
   ],
   "source": [
    "df.describe()"
   ]
  },
  {
   "cell_type": "code",
   "execution_count": 45,
   "metadata": {},
   "outputs": [
    {
     "data": {
      "text/html": [
       "<div>\n",
       "<style scoped>\n",
       "    .dataframe tbody tr th:only-of-type {\n",
       "        vertical-align: middle;\n",
       "    }\n",
       "\n",
       "    .dataframe tbody tr th {\n",
       "        vertical-align: top;\n",
       "    }\n",
       "\n",
       "    .dataframe thead th {\n",
       "        text-align: right;\n",
       "    }\n",
       "</style>\n",
       "<table border=\"1\" class=\"dataframe\">\n",
       "  <thead>\n",
       "    <tr style=\"text-align: right;\">\n",
       "      <th></th>\n",
       "      <th>PlayerID</th>\n",
       "      <th>Age</th>\n",
       "      <th>Gender</th>\n",
       "      <th>Location</th>\n",
       "      <th>GameGenre</th>\n",
       "      <th>PlayTimeHours</th>\n",
       "      <th>InGamePurchases</th>\n",
       "      <th>GameDifficulty</th>\n",
       "      <th>SessionsPerWeek</th>\n",
       "      <th>AvgSessionDurationMinutes</th>\n",
       "      <th>PlayerLevel</th>\n",
       "      <th>AchievementsUnlocked</th>\n",
       "      <th>EngagementLevel</th>\n",
       "    </tr>\n",
       "  </thead>\n",
       "  <tbody>\n",
       "    <tr>\n",
       "      <th>0</th>\n",
       "      <td>9000</td>\n",
       "      <td>43</td>\n",
       "      <td>Male</td>\n",
       "      <td>Other</td>\n",
       "      <td>Strategy</td>\n",
       "      <td>16.271119</td>\n",
       "      <td>0</td>\n",
       "      <td>Medium</td>\n",
       "      <td>6</td>\n",
       "      <td>108</td>\n",
       "      <td>79</td>\n",
       "      <td>25</td>\n",
       "      <td>Medium</td>\n",
       "    </tr>\n",
       "    <tr>\n",
       "      <th>1</th>\n",
       "      <td>9001</td>\n",
       "      <td>29</td>\n",
       "      <td>Female</td>\n",
       "      <td>USA</td>\n",
       "      <td>Strategy</td>\n",
       "      <td>5.525961</td>\n",
       "      <td>0</td>\n",
       "      <td>Medium</td>\n",
       "      <td>5</td>\n",
       "      <td>144</td>\n",
       "      <td>11</td>\n",
       "      <td>10</td>\n",
       "      <td>Medium</td>\n",
       "    </tr>\n",
       "    <tr>\n",
       "      <th>2</th>\n",
       "      <td>9002</td>\n",
       "      <td>22</td>\n",
       "      <td>Female</td>\n",
       "      <td>USA</td>\n",
       "      <td>Sports</td>\n",
       "      <td>8.223755</td>\n",
       "      <td>0</td>\n",
       "      <td>Easy</td>\n",
       "      <td>16</td>\n",
       "      <td>142</td>\n",
       "      <td>35</td>\n",
       "      <td>41</td>\n",
       "      <td>High</td>\n",
       "    </tr>\n",
       "    <tr>\n",
       "      <th>3</th>\n",
       "      <td>9003</td>\n",
       "      <td>35</td>\n",
       "      <td>Male</td>\n",
       "      <td>USA</td>\n",
       "      <td>Action</td>\n",
       "      <td>5.265351</td>\n",
       "      <td>1</td>\n",
       "      <td>Easy</td>\n",
       "      <td>9</td>\n",
       "      <td>85</td>\n",
       "      <td>57</td>\n",
       "      <td>47</td>\n",
       "      <td>Medium</td>\n",
       "    </tr>\n",
       "  </tbody>\n",
       "</table>\n",
       "</div>"
      ],
      "text/plain": [
       "   PlayerID  Age  Gender Location GameGenre  PlayTimeHours  InGamePurchases  \\\n",
       "0      9000   43    Male    Other  Strategy      16.271119                0   \n",
       "1      9001   29  Female      USA  Strategy       5.525961                0   \n",
       "2      9002   22  Female      USA    Sports       8.223755                0   \n",
       "3      9003   35    Male      USA    Action       5.265351                1   \n",
       "\n",
       "  GameDifficulty  SessionsPerWeek  AvgSessionDurationMinutes  PlayerLevel  \\\n",
       "0         Medium                6                        108           79   \n",
       "1         Medium                5                        144           11   \n",
       "2           Easy               16                        142           35   \n",
       "3           Easy                9                         85           57   \n",
       "\n",
       "   AchievementsUnlocked EngagementLevel  \n",
       "0                    25          Medium  \n",
       "1                    10          Medium  \n",
       "2                    41            High  \n",
       "3                    47          Medium  "
      ]
     },
     "execution_count": 45,
     "metadata": {},
     "output_type": "execute_result"
    }
   ],
   "source": [
    "df.head(4)"
   ]
  },
  {
   "cell_type": "code",
   "execution_count": 46,
   "metadata": {},
   "outputs": [
    {
     "data": {
      "text/plain": [
       "0    31993\n",
       "1     8041\n",
       "Name: InGamePurchases, dtype: int64"
      ]
     },
     "execution_count": 46,
     "metadata": {},
     "output_type": "execute_result"
    }
   ],
   "source": [
    "df.InGamePurchases.value_counts()"
   ]
  },
  {
   "cell_type": "markdown",
   "metadata": {},
   "source": [
    "InGamePurchases are 0 and 1 so, no or yes. Again this is a very ambiguous value since a yes can mean 100 in game purchases, or it can mean 1 purchase. "
   ]
  },
  {
   "cell_type": "code",
   "execution_count": 47,
   "metadata": {},
   "outputs": [],
   "source": [
    "df = df.drop(['PlayerID', 'InGamePurchases', 'PlayerLevel', 'AchievementsUnlocked'], axis=1)"
   ]
  },
  {
   "cell_type": "code",
   "execution_count": 48,
   "metadata": {},
   "outputs": [
    {
     "data": {
      "text/html": [
       "<div>\n",
       "<style scoped>\n",
       "    .dataframe tbody tr th:only-of-type {\n",
       "        vertical-align: middle;\n",
       "    }\n",
       "\n",
       "    .dataframe tbody tr th {\n",
       "        vertical-align: top;\n",
       "    }\n",
       "\n",
       "    .dataframe thead th {\n",
       "        text-align: right;\n",
       "    }\n",
       "</style>\n",
       "<table border=\"1\" class=\"dataframe\">\n",
       "  <thead>\n",
       "    <tr style=\"text-align: right;\">\n",
       "      <th></th>\n",
       "      <th>Age</th>\n",
       "      <th>Gender</th>\n",
       "      <th>Location</th>\n",
       "      <th>GameGenre</th>\n",
       "      <th>PlayTimeHours</th>\n",
       "      <th>GameDifficulty</th>\n",
       "      <th>SessionsPerWeek</th>\n",
       "      <th>AvgSessionDurationMinutes</th>\n",
       "      <th>EngagementLevel</th>\n",
       "    </tr>\n",
       "  </thead>\n",
       "  <tbody>\n",
       "    <tr>\n",
       "      <th>0</th>\n",
       "      <td>43</td>\n",
       "      <td>Male</td>\n",
       "      <td>Other</td>\n",
       "      <td>Strategy</td>\n",
       "      <td>16.271119</td>\n",
       "      <td>Medium</td>\n",
       "      <td>6</td>\n",
       "      <td>108</td>\n",
       "      <td>Medium</td>\n",
       "    </tr>\n",
       "    <tr>\n",
       "      <th>1</th>\n",
       "      <td>29</td>\n",
       "      <td>Female</td>\n",
       "      <td>USA</td>\n",
       "      <td>Strategy</td>\n",
       "      <td>5.525961</td>\n",
       "      <td>Medium</td>\n",
       "      <td>5</td>\n",
       "      <td>144</td>\n",
       "      <td>Medium</td>\n",
       "    </tr>\n",
       "    <tr>\n",
       "      <th>2</th>\n",
       "      <td>22</td>\n",
       "      <td>Female</td>\n",
       "      <td>USA</td>\n",
       "      <td>Sports</td>\n",
       "      <td>8.223755</td>\n",
       "      <td>Easy</td>\n",
       "      <td>16</td>\n",
       "      <td>142</td>\n",
       "      <td>High</td>\n",
       "    </tr>\n",
       "    <tr>\n",
       "      <th>3</th>\n",
       "      <td>35</td>\n",
       "      <td>Male</td>\n",
       "      <td>USA</td>\n",
       "      <td>Action</td>\n",
       "      <td>5.265351</td>\n",
       "      <td>Easy</td>\n",
       "      <td>9</td>\n",
       "      <td>85</td>\n",
       "      <td>Medium</td>\n",
       "    </tr>\n",
       "    <tr>\n",
       "      <th>4</th>\n",
       "      <td>33</td>\n",
       "      <td>Male</td>\n",
       "      <td>Europe</td>\n",
       "      <td>Action</td>\n",
       "      <td>15.531945</td>\n",
       "      <td>Medium</td>\n",
       "      <td>2</td>\n",
       "      <td>131</td>\n",
       "      <td>Medium</td>\n",
       "    </tr>\n",
       "    <tr>\n",
       "      <th>...</th>\n",
       "      <td>...</td>\n",
       "      <td>...</td>\n",
       "      <td>...</td>\n",
       "      <td>...</td>\n",
       "      <td>...</td>\n",
       "      <td>...</td>\n",
       "      <td>...</td>\n",
       "      <td>...</td>\n",
       "      <td>...</td>\n",
       "    </tr>\n",
       "    <tr>\n",
       "      <th>40029</th>\n",
       "      <td>32</td>\n",
       "      <td>Male</td>\n",
       "      <td>USA</td>\n",
       "      <td>Strategy</td>\n",
       "      <td>20.619662</td>\n",
       "      <td>Easy</td>\n",
       "      <td>4</td>\n",
       "      <td>75</td>\n",
       "      <td>Medium</td>\n",
       "    </tr>\n",
       "    <tr>\n",
       "      <th>40030</th>\n",
       "      <td>44</td>\n",
       "      <td>Female</td>\n",
       "      <td>Other</td>\n",
       "      <td>Simulation</td>\n",
       "      <td>13.539280</td>\n",
       "      <td>Hard</td>\n",
       "      <td>19</td>\n",
       "      <td>114</td>\n",
       "      <td>High</td>\n",
       "    </tr>\n",
       "    <tr>\n",
       "      <th>40031</th>\n",
       "      <td>15</td>\n",
       "      <td>Female</td>\n",
       "      <td>USA</td>\n",
       "      <td>RPG</td>\n",
       "      <td>0.240057</td>\n",
       "      <td>Easy</td>\n",
       "      <td>10</td>\n",
       "      <td>176</td>\n",
       "      <td>High</td>\n",
       "    </tr>\n",
       "    <tr>\n",
       "      <th>40032</th>\n",
       "      <td>34</td>\n",
       "      <td>Male</td>\n",
       "      <td>USA</td>\n",
       "      <td>Sports</td>\n",
       "      <td>14.017818</td>\n",
       "      <td>Medium</td>\n",
       "      <td>3</td>\n",
       "      <td>128</td>\n",
       "      <td>Medium</td>\n",
       "    </tr>\n",
       "    <tr>\n",
       "      <th>40033</th>\n",
       "      <td>19</td>\n",
       "      <td>Male</td>\n",
       "      <td>USA</td>\n",
       "      <td>Sports</td>\n",
       "      <td>10.083804</td>\n",
       "      <td>Easy</td>\n",
       "      <td>13</td>\n",
       "      <td>84</td>\n",
       "      <td>Medium</td>\n",
       "    </tr>\n",
       "  </tbody>\n",
       "</table>\n",
       "<p>40034 rows × 9 columns</p>\n",
       "</div>"
      ],
      "text/plain": [
       "       Age  Gender Location   GameGenre  PlayTimeHours GameDifficulty  \\\n",
       "0       43    Male    Other    Strategy      16.271119         Medium   \n",
       "1       29  Female      USA    Strategy       5.525961         Medium   \n",
       "2       22  Female      USA      Sports       8.223755           Easy   \n",
       "3       35    Male      USA      Action       5.265351           Easy   \n",
       "4       33    Male   Europe      Action      15.531945         Medium   \n",
       "...    ...     ...      ...         ...            ...            ...   \n",
       "40029   32    Male      USA    Strategy      20.619662           Easy   \n",
       "40030   44  Female    Other  Simulation      13.539280           Hard   \n",
       "40031   15  Female      USA         RPG       0.240057           Easy   \n",
       "40032   34    Male      USA      Sports      14.017818         Medium   \n",
       "40033   19    Male      USA      Sports      10.083804           Easy   \n",
       "\n",
       "       SessionsPerWeek  AvgSessionDurationMinutes EngagementLevel  \n",
       "0                    6                        108          Medium  \n",
       "1                    5                        144          Medium  \n",
       "2                   16                        142            High  \n",
       "3                    9                         85          Medium  \n",
       "4                    2                        131          Medium  \n",
       "...                ...                        ...             ...  \n",
       "40029                4                         75          Medium  \n",
       "40030               19                        114            High  \n",
       "40031               10                        176            High  \n",
       "40032                3                        128          Medium  \n",
       "40033               13                         84          Medium  \n",
       "\n",
       "[40034 rows x 9 columns]"
      ]
     },
     "execution_count": 48,
     "metadata": {},
     "output_type": "execute_result"
    }
   ],
   "source": [
    "df"
   ]
  },
  {
   "cell_type": "code",
   "execution_count": 49,
   "metadata": {},
   "outputs": [
    {
     "data": {
      "text/plain": [
       "array(['Male', 'Female'], dtype=object)"
      ]
     },
     "execution_count": 49,
     "metadata": {},
     "output_type": "execute_result"
    }
   ],
   "source": [
    "df.Gender.unique()"
   ]
  },
  {
   "cell_type": "markdown",
   "metadata": {},
   "source": [
    "This is a petpeeve, but Male/Female is not a Gender classification, so we will rename this to sex."
   ]
  },
  {
   "cell_type": "code",
   "execution_count": 50,
   "metadata": {},
   "outputs": [],
   "source": [
    "df = df.rename(columns={'Gender': 'Sex'})\n"
   ]
  },
  {
   "cell_type": "code",
   "execution_count": 51,
   "metadata": {},
   "outputs": [
    {
     "data": {
      "text/plain": [
       "Male      23959\n",
       "Female    16075\n",
       "Name: Sex, dtype: int64"
      ]
     },
     "execution_count": 51,
     "metadata": {},
     "output_type": "execute_result"
    }
   ],
   "source": [
    "df.Sex.value_counts()"
   ]
  },
  {
   "cell_type": "code",
   "execution_count": 52,
   "metadata": {},
   "outputs": [
    {
     "data": {
      "text/plain": [
       "USA       16000\n",
       "Europe    12004\n",
       "Asia       8095\n",
       "Other      3935\n",
       "Name: Location, dtype: int64"
      ]
     },
     "execution_count": 52,
     "metadata": {},
     "output_type": "execute_result"
    }
   ],
   "source": [
    "df.Location.unique()\n",
    "# Looks like 4 regions total\n",
    "df.Location.value_counts()"
   ]
  },
  {
   "cell_type": "code",
   "execution_count": 53,
   "metadata": {},
   "outputs": [
    {
     "data": {
      "text/plain": [
       "Sports        8048\n",
       "Action        8039\n",
       "Strategy      8012\n",
       "Simulation    7983\n",
       "RPG           7952\n",
       "Name: GameGenre, dtype: int64"
      ]
     },
     "execution_count": 53,
     "metadata": {},
     "output_type": "execute_result"
    }
   ],
   "source": [
    "df.GameGenre.unique()\n",
    "# And we have 5 genre groups\n",
    "df.GameGenre.value_counts()"
   ]
  },
  {
   "cell_type": "markdown",
   "metadata": {},
   "source": [
    "Let's look at our target column for our future exploration"
   ]
  },
  {
   "cell_type": "code",
   "execution_count": 54,
   "metadata": {},
   "outputs": [
    {
     "data": {
      "text/plain": [
       "array(['Medium', 'High', 'Low'], dtype=object)"
      ]
     },
     "execution_count": 54,
     "metadata": {},
     "output_type": "execute_result"
    }
   ],
   "source": [
    "df.EngagementLevel.unique()"
   ]
  },
  {
   "cell_type": "markdown",
   "metadata": {},
   "source": [
    "Okay, so only 3 groups to worry about here. We will probably look at encoding this later on for predictions"
   ]
  },
  {
   "cell_type": "code",
   "execution_count": 55,
   "metadata": {},
   "outputs": [
    {
     "data": {
      "text/plain": [
       "15    1101\n",
       "16    1138\n",
       "17    1149\n",
       "18    1167\n",
       "19    1139\n",
       "20    1113\n",
       "21    1128\n",
       "22    1150\n",
       "23    1130\n",
       "24    1153\n",
       "25    1108\n",
       "26    1107\n",
       "27    1217\n",
       "28    1108\n",
       "29    1187\n",
       "30    1150\n",
       "31    1228\n",
       "32    1163\n",
       "33    1123\n",
       "34    1103\n",
       "35    1151\n",
       "36    1154\n",
       "37    1219\n",
       "38    1140\n",
       "39    1128\n",
       "40    1202\n",
       "41    1111\n",
       "42    1187\n",
       "43    1180\n",
       "44    1166\n",
       "45    1108\n",
       "46    1121\n",
       "47    1102\n",
       "48    1097\n",
       "49    1106\n",
       "Name: Age, dtype: int64"
      ]
     },
     "execution_count": 55,
     "metadata": {},
     "output_type": "execute_result"
    }
   ],
   "source": [
    "sorted_unique = sorted(df.Age.unique())\n",
    "\n",
    "# Reindex the value_counts() to match the sorted order\n",
    "value_counts_sorted = df.Age.value_counts().reindex(sorted_unique, fill_value=0)\n",
    "\n",
    "value_counts_sorted"
   ]
  },
  {
   "cell_type": "markdown",
   "metadata": {},
   "source": [
    "Looks like the ages represented are from 15 to 49, with a pretty even spread throughout. That's pretty good sampling. "
   ]
  },
  {
   "cell_type": "code",
   "execution_count": 56,
   "metadata": {},
   "outputs": [
    {
     "data": {
      "text/html": [
       "<div>\n",
       "<style scoped>\n",
       "    .dataframe tbody tr th:only-of-type {\n",
       "        vertical-align: middle;\n",
       "    }\n",
       "\n",
       "    .dataframe tbody tr th {\n",
       "        vertical-align: top;\n",
       "    }\n",
       "\n",
       "    .dataframe thead th {\n",
       "        text-align: right;\n",
       "    }\n",
       "</style>\n",
       "<table border=\"1\" class=\"dataframe\">\n",
       "  <thead>\n",
       "    <tr style=\"text-align: right;\">\n",
       "      <th></th>\n",
       "      <th>Age</th>\n",
       "      <th>Sex</th>\n",
       "      <th>Location</th>\n",
       "      <th>GameGenre</th>\n",
       "      <th>PlayTimeHours</th>\n",
       "      <th>GameDifficulty</th>\n",
       "      <th>SessionsPerWeek</th>\n",
       "      <th>AvgSessionDurationMinutes</th>\n",
       "      <th>EngagementLevel</th>\n",
       "    </tr>\n",
       "  </thead>\n",
       "  <tbody>\n",
       "    <tr>\n",
       "      <th>0</th>\n",
       "      <td>43</td>\n",
       "      <td>Male</td>\n",
       "      <td>Other</td>\n",
       "      <td>Strategy</td>\n",
       "      <td>16.271119</td>\n",
       "      <td>Medium</td>\n",
       "      <td>6</td>\n",
       "      <td>108</td>\n",
       "      <td>Medium</td>\n",
       "    </tr>\n",
       "  </tbody>\n",
       "</table>\n",
       "</div>"
      ],
      "text/plain": [
       "   Age   Sex Location GameGenre  PlayTimeHours GameDifficulty  \\\n",
       "0   43  Male    Other  Strategy      16.271119         Medium   \n",
       "\n",
       "   SessionsPerWeek  AvgSessionDurationMinutes EngagementLevel  \n",
       "0                6                        108          Medium  "
      ]
     },
     "execution_count": 56,
     "metadata": {},
     "output_type": "execute_result"
    }
   ],
   "source": [
    "# Let's get our headers again for descriptive analysis\n",
    "df.head(1)"
   ]
  },
  {
   "cell_type": "markdown",
   "metadata": {},
   "source": [
    "_____\n",
    "\n",
    "## Descriptive Analysis\n",
    "\n",
    "_____"
   ]
  },
  {
   "cell_type": "code",
   "execution_count": 86,
   "metadata": {},
   "outputs": [
    {
     "data": {
      "image/png": "[encoded data removed]",
      "text/plain": [
       "<Figure size 432x288 with 2 Axes>"
      ]
     },
     "metadata": {
      "needs_background": "light"
     },
     "output_type": "display_data"
    }
   ],
   "source": [
    "sns.heatmap(df.corr(method='pearson'))\n",
    "\n",
    "# Set labels and title\n",
    "plt.xlabel('Engagement Level')\n",
    "plt.ylabel('Count')\n",
    "plt.title('Correlation of features in dataset')\n",
    "\n",
    "#show the plot\n",
    "plt.show()"
   ]
  },
  {
   "cell_type": "markdown",
   "metadata": {},
   "source": [
    "This looks pretty off, but mostly because there are quite a few categorical columns. "
   ]
  },
  {
   "cell_type": "markdown",
   "metadata": {},
   "source": [
    "### 1. Do males or females have a higher engagement level?"
   ]
  },
  {
   "cell_type": "code",
   "execution_count": 57,
   "metadata": {},
   "outputs": [
    {
     "data": {
      "image/png": "[encoded data removed]",
      "text/plain": [
       "<Figure size 864x576 with 1 Axes>"
      ]
     },
     "metadata": {
      "needs_background": "light"
     },
     "output_type": "display_data"
    }
   ],
   "source": [
    "# Order engagement levels\n",
    "list_order = ['Low', 'Medium', 'High']\n",
    "df_engaged = df['EngagementLevel'] = pd.Categorical(df['EngagementLevel'], categories=list_order, ordered=True)\n",
    "\n",
    "# Set plot size\n",
    "plt.figure(figsize=(12, 8))\n",
    "\n",
    "sns.histplot(data=df, x='EngagementLevel', hue='Sex', palette='viridis')\n",
    "\n",
    "# Set labels and title\n",
    "plt.xlabel('Engagement Level')\n",
    "plt.ylabel('Count')\n",
    "plt.title('Distribution of Engagement Levels by Sex')\n",
    "\n",
    "#show the plot\n",
    "plt.show()"
   ]
  },
  {
   "cell_type": "markdown",
   "metadata": {},
   "source": [
    "It looks like a medium engagement level is more common among both males and females."
   ]
  },
  {
   "cell_type": "markdown",
   "metadata": {},
   "source": [
    "### 2. How does engagement level break up to time played hours?"
   ]
  },
  {
   "cell_type": "code",
   "execution_count": 58,
   "metadata": {},
   "outputs": [],
   "source": [
    "df_low = df[df['EngagementLevel'] == 'Low']\n",
    "df_medium = df[df['EngagementLevel'] == 'Medium']\n",
    "df_high = df[df['EngagementLevel'] == 'High']"
   ]
  },
  {
   "cell_type": "code",
   "execution_count": 59,
   "metadata": {},
   "outputs": [
    {
     "data": {
      "image/png": "[encoded data removed]",
      "text/plain": [
       "<Figure size 864x576 with 1 Axes>"
      ]
     },
     "metadata": {
      "needs_background": "light"
     },
     "output_type": "display_data"
    }
   ],
   "source": [
    "# Set plot size\n",
    "fig, ax = plt.subplots(figsize=(12, 8))\n",
    "\n",
    "sns.barplot(data=df, x='EngagementLevel', y='PlayTimeHours', capsize=0.2, ax=ax, hue='EngagementLevel', palette='viridis')\n",
    "\n",
    "# Set labels and title\n",
    "plt.xlabel('Engagement Level')\n",
    "plt.ylabel('Mean Time')\n",
    "plt.title('Distribution of PlayTime Hours Across Engagement Levels')\n",
    "\n",
    "#show the plot\n",
    "plt.show()"
   ]
  },
  {
   "cell_type": "markdown",
   "metadata": {},
   "source": [
    "The times are pretty similar across the different engagement levels, which seems a bit odd. Unless play time doesn't have a huge impact on engagement level."
   ]
  },
  {
   "cell_type": "markdown",
   "metadata": {},
   "source": [
    "### 3. Do Males or Females have a higher average played time?"
   ]
  },
  {
   "cell_type": "code",
   "execution_count": 60,
   "metadata": {},
   "outputs": [
    {
     "data": {
      "image/png": "[encoded data removed]",
      "text/plain": [
       "<Figure size 864x576 with 1 Axes>"
      ]
     },
     "metadata": {
      "needs_background": "light"
     },
     "output_type": "display_data"
    }
   ],
   "source": [
    "# Set plot size\n",
    "plt.figure(figsize=(12, 8))\n",
    "\n",
    "sns.barplot(data=df, x='Sex', y='PlayTimeHours', hue='Sex', palette='viridis')\n",
    "\n",
    "# Set labels and title\n",
    "plt.xlabel('Sex')\n",
    "plt.ylabel('PlayTime Hours')\n",
    "plt.title('Distribution of PlayTime Hours by Sex')\n",
    "\n",
    "\n",
    "# Show the plot\n",
    "plt.show()"
   ]
  },
  {
   "cell_type": "markdown",
   "metadata": {},
   "source": [
    "Again, this feels pretty close. This dataset continues to be a solid spread of data"
   ]
  },
  {
   "cell_type": "markdown",
   "metadata": {},
   "source": [
    "### 4. What are the most played game genres based off this dataset?\n"
   ]
  },
  {
   "cell_type": "code",
   "execution_count": 61,
   "metadata": {},
   "outputs": [
    {
     "data": {
      "image/png": "[encoded data removed]",
      "text/plain": [
       "<Figure size 864x576 with 1 Axes>"
      ]
     },
     "metadata": {
      "needs_background": "light"
     },
     "output_type": "display_data"
    }
   ],
   "source": [
    "# Set plot size\n",
    "plt.figure(figsize=(12, 8))\n",
    "\n",
    "sns.barplot(data=df, x='GameGenre', y='PlayTimeHours', hue='GameGenre', palette='viridis')\n",
    "\n",
    "# Set labels and title\n",
    "plt.xlabel('Game Genres')\n",
    "plt.ylabel('PlayTime Hours')\n",
    "plt.title('Distribution of PlayTime Hours by Game Genre')\n",
    "\n",
    "\n",
    "# Show the plot\n",
    "plt.show()"
   ]
  },
  {
   "cell_type": "markdown",
   "metadata": {},
   "source": [
    "### 5. What are the typical game genres played, and which is played the most?"
   ]
  },
  {
   "cell_type": "code",
   "execution_count": 62,
   "metadata": {},
   "outputs": [
    {
     "data": {
      "image/png": "[encoded data removed]",
      "text/plain": [
       "<Figure size 864x576 with 1 Axes>"
      ]
     },
     "metadata": {
      "needs_background": "light"
     },
     "output_type": "display_data"
    }
   ],
   "source": [
    "# Set plot size\n",
    "plt.figure(figsize=(12, 8))\n",
    "\n",
    "sns.boxplot(x='GameGenre', y='PlayTimeHours', data=df, hue='GameGenre', palette='viridis')\n",
    "\n",
    "# Calculate and plot the means for each genre\n",
    "means = df.groupby('GameGenre')['PlayTimeHours'].mean()\n",
    "for i, mean in enumerate(means):\n",
    "    plt.axhline(mean, color='red', linestyle='--', label=f'Mean for {means.index[i]}' if i == 0 else \"\")\n",
    "\n",
    "# Set labels and title\n",
    "plt.xlabel('Game Genres')\n",
    "plt.ylabel('PlayTime Hours')\n",
    "plt.title('Distribution of PlayTime Hours by Game Genre')\n",
    "\n",
    "\n",
    "# Show the plot\n",
    "plt.show()"
   ]
  },
  {
   "cell_type": "markdown",
   "metadata": {},
   "source": [
    "It seems like, again, the data is pretty well distributed. Action games squeeze by with having a great mean of hours played."
   ]
  },
  {
   "cell_type": "markdown",
   "metadata": {},
   "source": [
    "### 6. How are the age brackets (15-24, 25-34, 35-44, 45+) represented across Male and Females?\n"
   ]
  },
  {
   "cell_type": "code",
   "execution_count": 63,
   "metadata": {},
   "outputs": [],
   "source": [
    "# create a new column that turns continuous data into categorical\n",
    "\n",
    "df['AgeCategory'] = pd.cut(df['Age'], [15, 24, 34, 44, 49], labels=['15-24', '25-34', '35-44', '45+'], include_lowest=True)"
   ]
  },
  {
   "cell_type": "code",
   "execution_count": 64,
   "metadata": {},
   "outputs": [
    {
     "data": {
      "text/html": [
       "<div>\n",
       "<style scoped>\n",
       "    .dataframe tbody tr th:only-of-type {\n",
       "        vertical-align: middle;\n",
       "    }\n",
       "\n",
       "    .dataframe tbody tr th {\n",
       "        vertical-align: top;\n",
       "    }\n",
       "\n",
       "    .dataframe thead th {\n",
       "        text-align: right;\n",
       "    }\n",
       "</style>\n",
       "<table border=\"1\" class=\"dataframe\">\n",
       "  <thead>\n",
       "    <tr style=\"text-align: right;\">\n",
       "      <th></th>\n",
       "      <th>Age</th>\n",
       "      <th>Sex</th>\n",
       "      <th>Location</th>\n",
       "      <th>GameGenre</th>\n",
       "      <th>PlayTimeHours</th>\n",
       "      <th>GameDifficulty</th>\n",
       "      <th>SessionsPerWeek</th>\n",
       "      <th>AvgSessionDurationMinutes</th>\n",
       "      <th>EngagementLevel</th>\n",
       "      <th>AgeCategory</th>\n",
       "    </tr>\n",
       "  </thead>\n",
       "  <tbody>\n",
       "    <tr>\n",
       "      <th>0</th>\n",
       "      <td>43</td>\n",
       "      <td>Male</td>\n",
       "      <td>Other</td>\n",
       "      <td>Strategy</td>\n",
       "      <td>16.271119</td>\n",
       "      <td>Medium</td>\n",
       "      <td>6</td>\n",
       "      <td>108</td>\n",
       "      <td>Medium</td>\n",
       "      <td>35-44</td>\n",
       "    </tr>\n",
       "    <tr>\n",
       "      <th>1</th>\n",
       "      <td>29</td>\n",
       "      <td>Female</td>\n",
       "      <td>USA</td>\n",
       "      <td>Strategy</td>\n",
       "      <td>5.525961</td>\n",
       "      <td>Medium</td>\n",
       "      <td>5</td>\n",
       "      <td>144</td>\n",
       "      <td>Medium</td>\n",
       "      <td>25-34</td>\n",
       "    </tr>\n",
       "    <tr>\n",
       "      <th>2</th>\n",
       "      <td>22</td>\n",
       "      <td>Female</td>\n",
       "      <td>USA</td>\n",
       "      <td>Sports</td>\n",
       "      <td>8.223755</td>\n",
       "      <td>Easy</td>\n",
       "      <td>16</td>\n",
       "      <td>142</td>\n",
       "      <td>High</td>\n",
       "      <td>15-24</td>\n",
       "    </tr>\n",
       "    <tr>\n",
       "      <th>3</th>\n",
       "      <td>35</td>\n",
       "      <td>Male</td>\n",
       "      <td>USA</td>\n",
       "      <td>Action</td>\n",
       "      <td>5.265351</td>\n",
       "      <td>Easy</td>\n",
       "      <td>9</td>\n",
       "      <td>85</td>\n",
       "      <td>Medium</td>\n",
       "      <td>35-44</td>\n",
       "    </tr>\n",
       "    <tr>\n",
       "      <th>4</th>\n",
       "      <td>33</td>\n",
       "      <td>Male</td>\n",
       "      <td>Europe</td>\n",
       "      <td>Action</td>\n",
       "      <td>15.531945</td>\n",
       "      <td>Medium</td>\n",
       "      <td>2</td>\n",
       "      <td>131</td>\n",
       "      <td>Medium</td>\n",
       "      <td>25-34</td>\n",
       "    </tr>\n",
       "    <tr>\n",
       "      <th>...</th>\n",
       "      <td>...</td>\n",
       "      <td>...</td>\n",
       "      <td>...</td>\n",
       "      <td>...</td>\n",
       "      <td>...</td>\n",
       "      <td>...</td>\n",
       "      <td>...</td>\n",
       "      <td>...</td>\n",
       "      <td>...</td>\n",
       "      <td>...</td>\n",
       "    </tr>\n",
       "    <tr>\n",
       "      <th>40029</th>\n",
       "      <td>32</td>\n",
       "      <td>Male</td>\n",
       "      <td>USA</td>\n",
       "      <td>Strategy</td>\n",
       "      <td>20.619662</td>\n",
       "      <td>Easy</td>\n",
       "      <td>4</td>\n",
       "      <td>75</td>\n",
       "      <td>Medium</td>\n",
       "      <td>25-34</td>\n",
       "    </tr>\n",
       "    <tr>\n",
       "      <th>40030</th>\n",
       "      <td>44</td>\n",
       "      <td>Female</td>\n",
       "      <td>Other</td>\n",
       "      <td>Simulation</td>\n",
       "      <td>13.539280</td>\n",
       "      <td>Hard</td>\n",
       "      <td>19</td>\n",
       "      <td>114</td>\n",
       "      <td>High</td>\n",
       "      <td>35-44</td>\n",
       "    </tr>\n",
       "    <tr>\n",
       "      <th>40031</th>\n",
       "      <td>15</td>\n",
       "      <td>Female</td>\n",
       "      <td>USA</td>\n",
       "      <td>RPG</td>\n",
       "      <td>0.240057</td>\n",
       "      <td>Easy</td>\n",
       "      <td>10</td>\n",
       "      <td>176</td>\n",
       "      <td>High</td>\n",
       "      <td>15-24</td>\n",
       "    </tr>\n",
       "    <tr>\n",
       "      <th>40032</th>\n",
       "      <td>34</td>\n",
       "      <td>Male</td>\n",
       "      <td>USA</td>\n",
       "      <td>Sports</td>\n",
       "      <td>14.017818</td>\n",
       "      <td>Medium</td>\n",
       "      <td>3</td>\n",
       "      <td>128</td>\n",
       "      <td>Medium</td>\n",
       "      <td>25-34</td>\n",
       "    </tr>\n",
       "    <tr>\n",
       "      <th>40033</th>\n",
       "      <td>19</td>\n",
       "      <td>Male</td>\n",
       "      <td>USA</td>\n",
       "      <td>Sports</td>\n",
       "      <td>10.083804</td>\n",
       "      <td>Easy</td>\n",
       "      <td>13</td>\n",
       "      <td>84</td>\n",
       "      <td>Medium</td>\n",
       "      <td>15-24</td>\n",
       "    </tr>\n",
       "  </tbody>\n",
       "</table>\n",
       "<p>40034 rows × 10 columns</p>\n",
       "</div>"
      ],
      "text/plain": [
       "       Age     Sex Location   GameGenre  PlayTimeHours GameDifficulty  \\\n",
       "0       43    Male    Other    Strategy      16.271119         Medium   \n",
       "1       29  Female      USA    Strategy       5.525961         Medium   \n",
       "2       22  Female      USA      Sports       8.223755           Easy   \n",
       "3       35    Male      USA      Action       5.265351           Easy   \n",
       "4       33    Male   Europe      Action      15.531945         Medium   \n",
       "...    ...     ...      ...         ...            ...            ...   \n",
       "40029   32    Male      USA    Strategy      20.619662           Easy   \n",
       "40030   44  Female    Other  Simulation      13.539280           Hard   \n",
       "40031   15  Female      USA         RPG       0.240057           Easy   \n",
       "40032   34    Male      USA      Sports      14.017818         Medium   \n",
       "40033   19    Male      USA      Sports      10.083804           Easy   \n",
       "\n",
       "       SessionsPerWeek  AvgSessionDurationMinutes EngagementLevel AgeCategory  \n",
       "0                    6                        108          Medium       35-44  \n",
       "1                    5                        144          Medium       25-34  \n",
       "2                   16                        142            High       15-24  \n",
       "3                    9                         85          Medium       35-44  \n",
       "4                    2                        131          Medium       25-34  \n",
       "...                ...                        ...             ...         ...  \n",
       "40029                4                         75          Medium       25-34  \n",
       "40030               19                        114            High       35-44  \n",
       "40031               10                        176            High       15-24  \n",
       "40032                3                        128          Medium       25-34  \n",
       "40033               13                         84          Medium       15-24  \n",
       "\n",
       "[40034 rows x 10 columns]"
      ]
     },
     "execution_count": 64,
     "metadata": {},
     "output_type": "execute_result"
    }
   ],
   "source": [
    "df"
   ]
  },
  {
   "cell_type": "code",
   "execution_count": 65,
   "metadata": {},
   "outputs": [
    {
     "data": {
      "text/plain": [
       "35-44    11638\n",
       "25-34    11494\n",
       "15-24    11368\n",
       "45+       5534\n",
       "Name: AgeCategory, dtype: int64"
      ]
     },
     "execution_count": 65,
     "metadata": {},
     "output_type": "execute_result"
    }
   ],
   "source": [
    "df.AgeCategory.value_counts()"
   ]
  },
  {
   "cell_type": "code",
   "execution_count": 66,
   "metadata": {},
   "outputs": [
    {
     "data": {
      "image/png": "[encoded data removed]",
      "text/plain": [
       "<Figure size 720x576 with 1 Axes>"
      ]
     },
     "metadata": {
      "needs_background": "light"
     },
     "output_type": "display_data"
    }
   ],
   "source": [
    "# Set plot size\n",
    "plt.figure(figsize=(10, 8))\n",
    "\n",
    "ax = sns.countplot(data=df, x='AgeCategory', hue='Sex', palette='viridis')\n",
    "\n",
    "# Annotate each bar with the count value\n",
    "for p in ax.patches:\n",
    "    height = p.get_height()\n",
    "\n",
    "    if height > 0:\n",
    "        ax.annotate(f'{height:.0f}', \n",
    "                (p.get_x() + p.get_width() / 2, height), \n",
    "                ha='center', va='center', \n",
    "                xytext=(0, 5), \n",
    "                textcoords='offset points')\n",
    "\n",
    "# Set labels and title\n",
    "ax.set_ylabel('Count of Ages')\n",
    "ax.set_xlabel('Age Category')\n",
    "ax.set_title('Count of Males to Females in Each Age Category')\n",
    "\n",
    "# Show the plot\n",
    "plt.show()\n",
    "\n"
   ]
  },
  {
   "cell_type": "markdown",
   "metadata": {},
   "source": [
    "This data really found a solid make up of age groups for 15-44. It does sort of make sense that 45+ is the smallest category, though it might have a closer ratio of male to female"
   ]
  },
  {
   "cell_type": "code",
   "execution_count": 67,
   "metadata": {},
   "outputs": [
    {
     "data": {
      "image/png": "[encoded data removed]",
      "text/plain": [
       "<Figure size 720x576 with 1 Axes>"
      ]
     },
     "metadata": {
      "needs_background": "light"
     },
     "output_type": "display_data"
    }
   ],
   "source": [
    "# Count the number of males and females in each age category\n",
    "counts = df.groupby(['AgeCategory', 'Sex']).size().unstack(fill_value=0)\n",
    "\n",
    "# Calculate the ratio of males to females\n",
    "counts['Ratio'] = counts['Male'] / counts['Female']\n",
    "\n",
    "# Get the color palette from Seaborn\n",
    "palette = sns.color_palette('viridis', len(df.AgeCategory.unique()))\n",
    "\n",
    "# Plot the ratios\n",
    "plt.figure(figsize=(10, 8))\n",
    "ax = counts['Ratio'].plot(kind='bar', color=palette)\n",
    "\n",
    "# Annotate the bars with the ratio values\n",
    "for p in ax.patches:\n",
    "    height = p.get_height()\n",
    "    ax.annotate(f'{height:.2f}', \n",
    "                (p.get_x() + p.get_width() / 2., height), \n",
    "                ha='center', va='center', \n",
    "                xytext=(0, 5), \n",
    "                textcoords='offset points')\n",
    "\n",
    "# Set labels and title\n",
    "ax.set_ylabel('Male to Female Ratio')\n",
    "ax.set_xlabel('Age Category')\n",
    "ax.set_title('Ratio of Males to Females in Each Age Category')\n",
    "\n",
    "# Show the plot\n",
    "plt.show()"
   ]
  },
  {
   "cell_type": "markdown",
   "metadata": {},
   "source": [
    "I guess the 25-34 age range had the best ratio"
   ]
  },
  {
   "cell_type": "markdown",
   "metadata": {},
   "source": [
    "### 7. What are the typical difficulty levels for games played, and which is played the most?\n"
   ]
  },
  {
   "cell_type": "code",
   "execution_count": 68,
   "metadata": {},
   "outputs": [
    {
     "data": {
      "text/plain": [
       "array(['Medium', 'Easy', 'Hard'], dtype=object)"
      ]
     },
     "execution_count": 68,
     "metadata": {},
     "output_type": "execute_result"
    }
   ],
   "source": [
    "df.GameDifficulty.unique()"
   ]
  },
  {
   "cell_type": "code",
   "execution_count": 69,
   "metadata": {},
   "outputs": [
    {
     "data": {
      "image/png": "[encoded data removed]",
      "text/plain": [
       "<Figure size 720x576 with 1 Axes>"
      ]
     },
     "metadata": {
      "needs_background": "light"
     },
     "output_type": "display_data"
    }
   ],
   "source": [
    "# Set plot size\n",
    "plt.figure(figsize=(10, 8))\n",
    "\n",
    "ax = sns.countplot(x='GameDifficulty', data=df, order=['Easy', 'Medium', 'Hard'], hue='GameDifficulty', palette='viridis')\n",
    "\n",
    "# Add labels and title\n",
    "plt.xlabel('Game Difficulty')\n",
    "plt.ylabel('Count')\n",
    "plt.title('Count of Games Played by Difficulty Level')\n",
    "\n",
    "# Annotate each bar with the count value\n",
    "for p in ax.patches:\n",
    "    height = p.get_height()\n",
    "\n",
    "    if height > 0:\n",
    "        ax.annotate(f'{height:.0f}', \n",
    "                (p.get_x() + p.get_width() / 2, height), \n",
    "                ha='center', va='center', \n",
    "                xytext=(0, 5), \n",
    "                textcoords='offset points')\n",
    "\n",
    "# Show the plot\n",
    "plt.show()"
   ]
  },
  {
   "cell_type": "markdown",
   "metadata": {},
   "source": [
    "### 8. Which of those difficulty levels are played the most (Play Time Hours)?"
   ]
  },
  {
   "cell_type": "code",
   "execution_count": 70,
   "metadata": {},
   "outputs": [
    {
     "data": {
      "image/png": "[encoded data removed]",
      "text/plain": [
       "<Figure size 720x576 with 1 Axes>"
      ]
     },
     "metadata": {
      "needs_background": "light"
     },
     "output_type": "display_data"
    }
   ],
   "source": [
    "# Calculate total playtime for each difficulty level\n",
    "total_playtime = df.groupby('GameDifficulty')['PlayTimeHours'].sum().reset_index()\n",
    "\n",
    "# Set plot size\n",
    "plt.figure(figsize=(10, 8))\n",
    "\n",
    "ax = sns.barplot(x='GameDifficulty', y='PlayTimeHours', data=total_playtime, order=['Easy', 'Medium', 'Hard'], hue='GameDifficulty', palette='viridis')\n",
    "\n",
    "# Annotate each bar with the count value\n",
    "for p in ax.patches:\n",
    "    height = p.get_height()\n",
    "\n",
    "    if height > 0:\n",
    "        ax.annotate(f'{height / 24:.2f} days', \n",
    "                (p.get_x() + p.get_width() / 2, height), \n",
    "                ha='center', va='center', \n",
    "                xytext=(0, 5), \n",
    "                textcoords='offset points')\n",
    "\n",
    "# Add labels and title\n",
    "plt.xlabel('Game Difficulty')\n",
    "plt.ylabel('Total PlayTime Hours')\n",
    "plt.title('Total PlayTime Hours by Game Difficulty')\n",
    "\n",
    "# Show the plot\n",
    "plt.show()"
   ]
  },
  {
   "cell_type": "markdown",
   "metadata": {},
   "source": [
    "____"
   ]
  },
  {
   "cell_type": "markdown",
   "metadata": {},
   "source": [
    "____\n",
    "\n",
    "## Inferential Analysis\n",
    "\n",
    "____"
   ]
  },
  {
   "cell_type": "code",
   "execution_count": 71,
   "metadata": {},
   "outputs": [
    {
     "data": {
      "text/html": [
       "<div>\n",
       "<style scoped>\n",
       "    .dataframe tbody tr th:only-of-type {\n",
       "        vertical-align: middle;\n",
       "    }\n",
       "\n",
       "    .dataframe tbody tr th {\n",
       "        vertical-align: top;\n",
       "    }\n",
       "\n",
       "    .dataframe thead th {\n",
       "        text-align: right;\n",
       "    }\n",
       "</style>\n",
       "<table border=\"1\" class=\"dataframe\">\n",
       "  <thead>\n",
       "    <tr style=\"text-align: right;\">\n",
       "      <th></th>\n",
       "      <th>Age</th>\n",
       "      <th>Sex</th>\n",
       "      <th>Location</th>\n",
       "      <th>GameGenre</th>\n",
       "      <th>PlayTimeHours</th>\n",
       "      <th>GameDifficulty</th>\n",
       "      <th>SessionsPerWeek</th>\n",
       "      <th>AvgSessionDurationMinutes</th>\n",
       "      <th>EngagementLevel</th>\n",
       "      <th>AgeCategory</th>\n",
       "    </tr>\n",
       "  </thead>\n",
       "  <tbody>\n",
       "    <tr>\n",
       "      <th>0</th>\n",
       "      <td>43</td>\n",
       "      <td>Male</td>\n",
       "      <td>Other</td>\n",
       "      <td>Strategy</td>\n",
       "      <td>16.271119</td>\n",
       "      <td>Medium</td>\n",
       "      <td>6</td>\n",
       "      <td>108</td>\n",
       "      <td>Medium</td>\n",
       "      <td>35-44</td>\n",
       "    </tr>\n",
       "    <tr>\n",
       "      <th>1</th>\n",
       "      <td>29</td>\n",
       "      <td>Female</td>\n",
       "      <td>USA</td>\n",
       "      <td>Strategy</td>\n",
       "      <td>5.525961</td>\n",
       "      <td>Medium</td>\n",
       "      <td>5</td>\n",
       "      <td>144</td>\n",
       "      <td>Medium</td>\n",
       "      <td>25-34</td>\n",
       "    </tr>\n",
       "    <tr>\n",
       "      <th>2</th>\n",
       "      <td>22</td>\n",
       "      <td>Female</td>\n",
       "      <td>USA</td>\n",
       "      <td>Sports</td>\n",
       "      <td>8.223755</td>\n",
       "      <td>Easy</td>\n",
       "      <td>16</td>\n",
       "      <td>142</td>\n",
       "      <td>High</td>\n",
       "      <td>15-24</td>\n",
       "    </tr>\n",
       "    <tr>\n",
       "      <th>3</th>\n",
       "      <td>35</td>\n",
       "      <td>Male</td>\n",
       "      <td>USA</td>\n",
       "      <td>Action</td>\n",
       "      <td>5.265351</td>\n",
       "      <td>Easy</td>\n",
       "      <td>9</td>\n",
       "      <td>85</td>\n",
       "      <td>Medium</td>\n",
       "      <td>35-44</td>\n",
       "    </tr>\n",
       "    <tr>\n",
       "      <th>4</th>\n",
       "      <td>33</td>\n",
       "      <td>Male</td>\n",
       "      <td>Europe</td>\n",
       "      <td>Action</td>\n",
       "      <td>15.531945</td>\n",
       "      <td>Medium</td>\n",
       "      <td>2</td>\n",
       "      <td>131</td>\n",
       "      <td>Medium</td>\n",
       "      <td>25-34</td>\n",
       "    </tr>\n",
       "  </tbody>\n",
       "</table>\n",
       "</div>"
      ],
      "text/plain": [
       "   Age     Sex Location GameGenre  PlayTimeHours GameDifficulty  \\\n",
       "0   43    Male    Other  Strategy      16.271119         Medium   \n",
       "1   29  Female      USA  Strategy       5.525961         Medium   \n",
       "2   22  Female      USA    Sports       8.223755           Easy   \n",
       "3   35    Male      USA    Action       5.265351           Easy   \n",
       "4   33    Male   Europe    Action      15.531945         Medium   \n",
       "\n",
       "   SessionsPerWeek  AvgSessionDurationMinutes EngagementLevel AgeCategory  \n",
       "0                6                        108          Medium       35-44  \n",
       "1                5                        144          Medium       25-34  \n",
       "2               16                        142            High       15-24  \n",
       "3                9                         85          Medium       35-44  \n",
       "4                2                        131          Medium       25-34  "
      ]
     },
     "execution_count": 71,
     "metadata": {},
     "output_type": "execute_result"
    }
   ],
   "source": [
    "df.head(5)"
   ]
  },
  {
   "cell_type": "markdown",
   "metadata": {},
   "source": [
    "### 1. Is there any significant difference in the types of difficulty games Males play vs. Females?\n"
   ]
  },
  {
   "cell_type": "markdown",
   "metadata": {},
   "source": [
    "H0: There is no significant difference in the game difficulty preferences between males and females\\\n",
    "HA: There is a significant difference in the game difficulty preferences between males and females"
   ]
  },
  {
   "cell_type": "code",
   "execution_count": 72,
   "metadata": {},
   "outputs": [
    {
     "name": "stdout",
     "output_type": "stream",
     "text": [
      "Chi-square Statistic: 2.144459945455983\n",
      "P-value: 0.3422444699984688\n",
      "Degrees of Freedom: 2\n",
      "Expected Frequencies:\n",
      "[[ 8036.69693261  3215.48184044  4822.82122696]\n",
      " [11978.30306739  4792.51815956  7188.17877304]]\n",
      "Failed to Reject the Null: There is no significant difference in game difficulty preferences between Males and Females.\n"
     ]
    }
   ],
   "source": [
    "# Set alpha\n",
    "alpha = 0.05\n",
    "\n",
    "# Create a contingency table\n",
    "contingency_table = pd.crosstab(df['Sex'], df['GameDifficulty'])\n",
    "\n",
    "# Perform Chi-square test\n",
    "chi2, p, dof, expected = stats.chi2_contingency(contingency_table)\n",
    "\n",
    "# Print the results\n",
    "print(\"Chi-square Statistic:\", chi2)\n",
    "print(\"P-value:\", p)\n",
    "print(\"Degrees of Freedom:\", dof)\n",
    "print(\"Expected Frequencies:\")\n",
    "print(expected)\n",
    "\n",
    "# Conclusion\n",
    "if p < alpha:\n",
    "    print(\"Reject the Null: There is a significant difference in game difficulty preferences between Males and Females.\")\n",
    "else:\n",
    "    print(\"Failed to Reject the Null: There is no significant difference in game difficulty preferences between Males and Females.\")"
   ]
  },
  {
   "cell_type": "markdown",
   "metadata": {},
   "source": [
    "### 2. Is there a link between Game Genre and Engagement Level?\n"
   ]
  },
  {
   "cell_type": "markdown",
   "metadata": {},
   "source": [
    "H0: There is no significant link between Game Genre and Engagement Level\\\n",
    "HA: There is a significant link between Game Genre and Engagement Level"
   ]
  },
  {
   "cell_type": "code",
   "execution_count": 73,
   "metadata": {},
   "outputs": [
    {
     "name": "stdout",
     "output_type": "stream",
     "text": [
      "Chi-square Statistic: 8.611218189112535\n",
      "P-value: 0.37614627228464403\n",
      "Degrees of Freedom: 8\n",
      "Expected Frequencies:\n",
      "[[2073.1037618  3890.3828246  2075.5134136 ]\n",
      " [2050.66813209 3848.28016186 2053.05170605]\n",
      " [2058.66243693 3863.28226008 2061.05530299]\n",
      " [2075.42468901 3894.73827247 2077.83703852]\n",
      " [2066.14098017 3877.31648099 2068.54253884]]\n",
      "Failed to Reject Null: There is no significant link between Game Genre and Engagement Level.\n"
     ]
    }
   ],
   "source": [
    "# Set alpha\n",
    "alpha = 0.05\n",
    "\n",
    "# Create a contingency table\n",
    "contingency_table = pd.crosstab(df['GameGenre'], df['EngagementLevel'])\n",
    "\n",
    "# Perform Chi-square test\n",
    "chi2, p, dof, expected = stats.chi2_contingency(contingency_table)\n",
    "\n",
    "# Print the results\n",
    "print(\"Chi-square Statistic:\", chi2)\n",
    "print(\"P-value:\", p)\n",
    "print(\"Degrees of Freedom:\", dof)\n",
    "print(\"Expected Frequencies:\")\n",
    "print(expected)\n",
    "\n",
    "# Conclusion\n",
    "if p < alpha:\n",
    "    print(\"Reject the Null: There is a significant link between Game Genre and Engagement Level.\")\n",
    "else:\n",
    "    print(\"Failed to Reject Null: There is no significant link between Game Genre and Engagement Level.\")"
   ]
  },
  {
   "cell_type": "code",
   "execution_count": 74,
   "metadata": {},
   "outputs": [
    {
     "data": {
      "text/plain": [
       "array(['Strategy', 'Sports', 'Action', 'RPG', 'Simulation'], dtype=object)"
      ]
     },
     "execution_count": 74,
     "metadata": {},
     "output_type": "execute_result"
    }
   ],
   "source": [
    "df.GameGenre.unique()"
   ]
  },
  {
   "cell_type": "code",
   "execution_count": 75,
   "metadata": {},
   "outputs": [],
   "source": [
    "df['GenreOrd'] = df['GameGenre']\n",
    "df.GenreOrd.replace(['Strategy', 'Sports', 'Action', 'RPG', 'Simulation'], [1, 2, 3, 4, 5], inplace=True)"
   ]
  },
  {
   "cell_type": "code",
   "execution_count": 76,
   "metadata": {},
   "outputs": [
    {
     "name": "stdout",
     "output_type": "stream",
     "text": [
      "Multiple Comparison of Means - Tukey HSD, FWER=0.05\n",
      "===================================================\n",
      "group1 group2 meandiff p-adj   lower  upper  reject\n",
      "---------------------------------------------------\n",
      "  High    Low   0.0259 0.3857 -0.0201  0.072  False\n",
      "  High Medium  -0.0056    0.9 -0.0459 0.0348  False\n",
      "   Low Medium  -0.0315 0.1597 -0.0719 0.0088  False\n",
      "---------------------------------------------------\n"
     ]
    }
   ],
   "source": [
    "# To Compare a bunch of series to check for significance\n",
    "\n",
    "from statsmodels.stats.multicomp import MultiComparison\n",
    "\n",
    "mc = MultiComparison(df['GenreOrd'], df['EngagementLevel'])\n",
    "print(mc.tukeyhsd())"
   ]
  },
  {
   "cell_type": "code",
   "execution_count": 77,
   "metadata": {},
   "outputs": [
    {
     "data": {
      "text/plain": [
       "<Figure size 720x576 with 0 Axes>"
      ]
     },
     "metadata": {},
     "output_type": "display_data"
    },
    {
     "data": {
      "image/png": "[encoded data removed]",
      "text/plain": [
       "<Figure size 432x288 with 1 Axes>"
      ]
     },
     "metadata": {
      "needs_background": "light"
     },
     "output_type": "display_data"
    }
   ],
   "source": [
    "plt.figure(figsize=(10,8))\n",
    "\n",
    "# Plotting the stacked bar chart\n",
    "contingency_table.plot(kind='bar', stacked=True, colormap='viridis')\n",
    "\n",
    "# Adding title and labels\n",
    "plt.title('Game Genre vs Engagement Level')\n",
    "plt.xlabel('Game Genre')\n",
    "plt.ylabel('Count')\n",
    "plt.legend(title='Engagement Level', bbox_to_anchor=(1.05, 1), loc='upper left')\n",
    "\n",
    "plt.tight_layout()\n",
    "plt.show()"
   ]
  },
  {
   "cell_type": "markdown",
   "metadata": {},
   "source": [
    "### 3. Does Time Played significantly impact Engagement Level?"
   ]
  },
  {
   "cell_type": "markdown",
   "metadata": {},
   "source": [
    "H0: Time played has no significant impact on engagement level.\\\n",
    "HA: Time played does have a significant impact on engagement level."
   ]
  },
  {
   "cell_type": "code",
   "execution_count": 78,
   "metadata": {},
   "outputs": [],
   "source": [
    "# function for ANOVA tests\n",
    "\n",
    "def anova(feature, label):\n",
    "    groups = df[feature].unique()\n",
    "    grouped_values = []\n",
    "    for group in groups:\n",
    "        grouped_values.append(df[df[feature]==group][label])\n",
    "    return stats.f_oneway(*grouped_values)\n"
   ]
  },
  {
   "cell_type": "code",
   "execution_count": 79,
   "metadata": {},
   "outputs": [
    {
     "name": "stdout",
     "output_type": "stream",
     "text": [
      "P-value: 0.1613962777558119\n",
      "Failed to Reject Null: Time played has no significant impact on engagement level.\n"
     ]
    }
   ],
   "source": [
    "# Set alpha level\n",
    "alpha = 0.05\n",
    "\n",
    "feature = 'EngagementLevel' # the independent categorical data\n",
    "label = 'PlayTimeHours' # the numeric data\n",
    "\n",
    "s, p = anova(feature, label)\n",
    "print(\"P-value:\", p)\n",
    "\n",
    "# Conclusion\n",
    "if p < alpha:\n",
    "    print(\"Reject the Null: Time played does have a significant impact on engagement level.\")\n",
    "else:\n",
    "    print(\"Failed to Reject Null: Time played has no significant impact on engagement level.\")\n",
    "\n"
   ]
  },
  {
   "cell_type": "markdown",
   "metadata": {},
   "source": [
    "### 4. Does age impact time played?"
   ]
  },
  {
   "cell_type": "markdown",
   "metadata": {},
   "source": [
    "H0: Age has no significant impact on time played.\\\n",
    "HA: Age does have a significant impact on time played."
   ]
  },
  {
   "cell_type": "code",
   "execution_count": 80,
   "metadata": {},
   "outputs": [
    {
     "name": "stdout",
     "output_type": "stream",
     "text": [
      "                            OLS Regression Results                            \n",
      "==============================================================================\n",
      "Dep. Variable:          PlayTimeHours   R-squared:                       0.000\n",
      "Model:                            OLS   Adj. R-squared:                 -0.000\n",
      "Method:                 Least Squares   F-statistic:                    0.2427\n",
      "Date:                Thu, 22 Aug 2024   Prob (F-statistic):              0.622\n",
      "Time:                        10:13:54   Log-Likelihood:            -1.3422e+05\n",
      "No. Observations:               40034   AIC:                         2.684e+05\n",
      "Df Residuals:                   40032   BIC:                         2.685e+05\n",
      "Df Model:                           1                                         \n",
      "Covariance Type:            nonrobust                                         \n",
      "==============================================================================\n",
      "                 coef    std err          t      P>|t|      [0.025      0.975]\n",
      "------------------------------------------------------------------------------\n",
      "const         11.9701      0.115    103.741      0.000      11.744      12.196\n",
      "Age            0.0017      0.003      0.493      0.622      -0.005       0.008\n",
      "==============================================================================\n",
      "Omnibus:                    34021.567   Durbin-Watson:                   1.988\n",
      "Prob(Omnibus):                  0.000   Jarque-Bera (JB):             2385.067\n",
      "Skew:                          -0.002   Prob(JB):                         0.00\n",
      "Kurtosis:                       1.804   Cond. No.                         112.\n",
      "==============================================================================\n",
      "\n",
      "Notes:\n",
      "[1] Standard Errors assume that the covariance matrix of the errors is correctly specified.\n",
      "Fail to reject the null hypothesis (p-value: 0.6223). Age does not have a significant impact on time played.\n"
     ]
    }
   ],
   "source": [
    "# Set alpha level\n",
    "alpha = 0.05\n",
    "\n",
    "# Define the independent variable (Age) and dependent variable (PlayTimeHours)\n",
    "X = df['Age']\n",
    "y = df['PlayTimeHours']\n",
    "\n",
    "# Add a constant to the independent variable matrix (for intercept)\n",
    "X = sm.add_constant(X)\n",
    "\n",
    "# Perform the linear regression\n",
    "model = sm.OLS(y, X).fit()\n",
    "\n",
    "# Print the regression results\n",
    "print(model.summary())\n",
    "\n",
    "# Get the p-value for the slope\n",
    "p_value = model.pvalues[1]\n",
    "\n",
    "# Conclusion based on the p-value and alpha level\n",
    "if p_value < alpha:\n",
    "    print(f\"Reject the null hypothesis (p-value: {p_value:.4f}). Age has a significant impact on time played.\")\n",
    "else:\n",
    "    print(f\"Fail to reject the null hypothesis (p-value: {p_value:.4f}). Age does not have a significant impact on time played.\")"
   ]
  },
  {
   "cell_type": "code",
   "execution_count": 81,
   "metadata": {},
   "outputs": [
    {
     "name": "stdout",
     "output_type": "stream",
     "text": [
      "Pearson Correlation Coefficient: 0.0025\n",
      "P-value: 0.6223\n",
      "Fail to reject the null hypothesis (p-value: 0.6223). Age does not have a significant impact on time played.\n"
     ]
    }
   ],
   "source": [
    "# Set alpha level\n",
    "alpha = 0.05\n",
    "\n",
    "# Calculate the Pearson correlation coefficient and the p-value\n",
    "corr_coefficient, p_value = pearsonr(df['Age'], df['PlayTimeHours'])\n",
    "\n",
    "# Print the results\n",
    "print(f\"Pearson Correlation Coefficient: {corr_coefficient:.4f}\")\n",
    "print(f\"P-value: {p_value:.4f}\")\n",
    "\n",
    "# Conclusion based on the p-value and alpha level\n",
    "if p_value < alpha:\n",
    "    print(f\"Reject the null hypothesis (p-value: {p_value:.4f}). Age has a significant impact on time played.\")\n",
    "else:\n",
    "    print(f\"Fail to reject the null hypothesis (p-value: {p_value:.4f}). Age does not have a significant impact on time played.\")"
   ]
  },
  {
   "cell_type": "code",
   "execution_count": 82,
   "metadata": {},
   "outputs": [
    {
     "data": {
      "image/png": "[encoded data removed]",
      "text/plain": [
       "<Figure size 576x432 with 1 Axes>"
      ]
     },
     "metadata": {
      "needs_background": "light"
     },
     "output_type": "display_data"
    }
   ],
   "source": [
    "# Create a scatter plot with a trendline\n",
    "plt.figure(figsize=(8, 6))\n",
    "sns.regplot(x='Age', y='PlayTimeHours', data=df, ci=None, scatter_kws={'color':'blue'}, line_kws={'color':'red'})\n",
    "\n",
    "# Adding title and labels\n",
    "plt.title('Scatter Plot of Age vs Hours Played with Trendline')\n",
    "plt.xlabel('Age')\n",
    "plt.ylabel('Play Time (Hours)')\n",
    "\n",
    "# Show the plot\n",
    "plt.show()"
   ]
  },
  {
   "cell_type": "markdown",
   "metadata": {},
   "source": [
    "## Summary"
   ]
  },
  {
   "cell_type": "markdown",
   "metadata": {},
   "source": [
    "Do Males or Females have a higher Engagement Level?\\\n",
    "How does engagement level break up vs. Play Time Hours?\\\n",
    "Do Males or Females have a higher average played time?\\\n",
    "What are the most played game genres based off this dataset?\\\n",
    "What are the typical game genres played, and which is played the most?\\\n",
    "How are the age brackets (15-24, 25-34, 35-44, 45+) represented across Male and Females?\\\n",
    "What are the typical difficulty levels for games played, and which is played the most?\\\n",
    "Which of those difficulty levels are played the most (Play Time Hours)?\n",
    "\n",
    "After asking the above questions, it became pretty clear that the person who catered this data did a great job finding a variety of samples that were well representated across pretty much all features. It did make the inference section tough to find anything of significant impact. \n",
    "\n",
    "1. Is there any significant difference in the types of difficulty games Males play vs. Women?\\\n",
    "H0: There is no significant difference in the game difficulty preferences between males and females\\\n",
    "HA: There is a significant difference in the game difficulty preferences between males and females\\\n",
    "\n",
    "We were looking into finding connections to player engagement. I wanted to see if males favor a certain type of game difficulty over females. We ran a chi squared test and the results were not significant.  \\\n",
    "Failed to Reject the Null\n",
    "\n",
    "2. Is there a link between Game Genre and Engagement Level?\\\n",
    "H0: There is no significant link between Game Genre and Engagement Level\\\n",
    "HA: There is a significant link between Game Genre and Engagement Level\\\n",
    "\n",
    "To have a better understanding of the types of games that draw the most engagement we focused on another chi squared test. I thought there might be something stronger here, but it could be the dataset being very diverse, but no significant findings.\\\n",
    "Failed to Reject Null\n",
    "\n",
    "3. Does time significantly impact engagement level?\\\n",
    "H0: Time played has no significant impact on engagement level.\\\n",
    "HA: Time played does have a significant impact on engagement level.\n",
    "\n",
    "I really thought this value would have an significant finding. I also wanted to use an ANOVA test to shake things up.\\\n",
    "Failed to Reject Null\n",
    "\n",
    "4. Does age impact time played?\\\n",
    "H0: Age has a significant impact on time played.\\\n",
    "HA: Age does not have a significant impact on time played.\\\n",
    "\n",
    "For this one I ran a pearsonR test and like the pervious question, I figured age would impact time played, but there wasn't enough of a significance shown in this dataset.\\ \n",
    "Fail to reject the null hypothesis\n",
    "\n",
    "Though all 4 we failed to reject any of the hypotheses , I think with more time I could have focused on some other components of this data to find some areas. It probably would be good to add a correlation section for the data. This is what I would work on in the future. "
   ]
  },
  {
   "cell_type": "markdown",
   "metadata": {},
   "source": [
    "___\n",
    "\n",
    "## References \n",
    "\n",
    "___"
   ]
  },
  {
   "cell_type": "markdown",
   "metadata": {},
   "source": [
    "I used [this playlist](https://www.youtube.com/playlist?list=PLe9UEU4oeAuV7RtCbL76hca5ELO_IELk4) from Mark Keith on youtube to help with some syntax for inferential tests."
   ]
  }
 ],
 "metadata": {
  "kernelspec": {
   "display_name": "learn-env",
   "language": "python",
   "name": "python3"
  },
  "language_info": {
   "codemirror_mode": {
    "name": "ipython",
    "version": 3
   },
   "file_extension": ".py",
   "mimetype": "text/x-python",
   "name": "python",
   "nbconvert_exporter": "python",
   "pygments_lexer": "ipython3",
   "version": "3.8.5"
  }
 },
 "nbformat": 4,
 "nbformat_minor": 2
}
