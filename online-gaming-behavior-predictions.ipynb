{
 "cells": [
  {
   "cell_type": "markdown",
   "metadata": {},
   "source": [
    "# Online Gaming Behavior EDA:\n",
    "## Technical Modeling"
   ]
  },
  {
   "cell_type": "markdown",
   "metadata": {},
   "source": [
    "dataset: [Kaggle](https://www.kaggle.com/datasets/rabieelkharoua/predict-online-gaming-behavior-dataset/data)"
   ]
  },
  {
   "cell_type": "markdown",
   "metadata": {},
   "source": [
    "____"
   ]
  },
  {
   "cell_type": "markdown",
   "metadata": {},
   "source": [
    "In the descriptive and inferential analysis notebook, the findings were a bit simple. The data was very clean and after running a bunch of questions through the ringer, it seems like those who catered this dataset did a great job finding pretty great samples for each section. Main areas that showed a different were when males and females were taken into account. Mostly, as the sterotype goes, males play more games. However, there wasn't an insane disparity with the numbers, probably close to 3 to 2 ratio. \n",
    "\n",
    "The inferential section didn't find any significant impacts on the data, at least for the questions I posed. I hope that means I missed something in the initial findings, and I will be able to come up with a model that has a solid accuracy rating for predictions. Given this data set is focused on online behavior in the sense of engagement level, we will focus on that as our target variable. I will look at making some dummy data out of some of the categorical features and move to scale our data to be a bit more understandable in terms of correlations. "
   ]
  },
  {
   "cell_type": "code",
   "execution_count": 50,
   "metadata": {},
   "outputs": [],
   "source": [
    "# Standard Data Science/Analysis Toolkit\n",
    "import numpy as np\n",
    "import pandas as pd\n",
    "import matplotlib.pyplot as plt; plt.style.use(\"ggplot\")\n",
    "import seaborn as sns\n",
    "\n",
    "# Machine Learning Tools, Utilities, and Scoring Metrics\n",
    "from sklearn.preprocessing import StandardScaler, MinMaxScaler, label_binarize, LabelEncoder\n",
    "from sklearn.decomposition import PCA\n",
    "from sklearn.discriminant_analysis import LinearDiscriminantAnalysis as LDA\n",
    "from sklearn.model_selection import train_test_split, StratifiedKFold, GridSearchCV, RandomizedSearchCV, cross_val_score\n",
    "from sklearn.metrics import classification_report, confusion_matrix, accuracy_score, roc_curve, auc, roc_auc_score\n",
    "from sklearn.multiclass import OneVsRestClassifier\n",
    "from sklearn.pipeline import Pipeline\n",
    "\n",
    "# Suite of Machine Learning Algorithms\n",
    "from sklearn.neighbors import KNeighborsClassifier as KNN\n",
    "from sklearn.ensemble import RandomForestClassifier, GradientBoostingClassifier\n",
    "from sklearn.svm import SVC\n",
    "from sklearn.tree import DecisionTreeClassifier\n",
    "from sklearn.naive_bayes import GaussianNB\n",
    "from sklearn.linear_model import LinearRegression, LogisticRegression\n",
    "\n",
    "# Setup to Ignore Version Errors and Deprecations\n",
    "import warnings\n",
    "warnings.filterwarnings(\"ignore\")"
   ]
  },
  {
   "cell_type": "code",
   "execution_count": 7,
   "metadata": {},
   "outputs": [
    {
     "name": "stdout",
     "output_type": "stream",
     "text": [
      "<class 'pandas.core.frame.DataFrame'>\n",
      "RangeIndex: 40034 entries, 0 to 40033\n",
      "Data columns (total 13 columns):\n",
      " #   Column                     Non-Null Count  Dtype  \n",
      "---  ------                     --------------  -----  \n",
      " 0   PlayerID                   40034 non-null  int64  \n",
      " 1   Age                        40034 non-null  int64  \n",
      " 2   Gender                     40034 non-null  object \n",
      " 3   Location                   40034 non-null  object \n",
      " 4   GameGenre                  40034 non-null  object \n",
      " 5   PlayTimeHours              40034 non-null  float64\n",
      " 6   InGamePurchases            40034 non-null  int64  \n",
      " 7   GameDifficulty             40034 non-null  object \n",
      " 8   SessionsPerWeek            40034 non-null  int64  \n",
      " 9   AvgSessionDurationMinutes  40034 non-null  int64  \n",
      " 10  PlayerLevel                40034 non-null  int64  \n",
      " 11  AchievementsUnlocked       40034 non-null  int64  \n",
      " 12  EngagementLevel            40034 non-null  object \n",
      "dtypes: float64(1), int64(7), object(5)\n",
      "memory usage: 4.0+ MB\n"
     ]
    }
   ],
   "source": [
    "df = pd.read_csv('data/online_gaming_behavior.csv')\n",
    "df.info()"
   ]
  },
  {
   "cell_type": "markdown",
   "metadata": {},
   "source": [
    "We will perform some of the data cleaning from the previous notebook. This is all the same, so please see descriptive analysis for reasoning"
   ]
  },
  {
   "cell_type": "code",
   "execution_count": 8,
   "metadata": {},
   "outputs": [],
   "source": [
    "df = df.drop(['PlayerID', 'InGamePurchases', 'PlayerLevel', 'AchievementsUnlocked'], axis=1)\n",
    "df = df.rename(columns={'Gender': 'Sex'})\n",
    "# df['AgeCategory'] = pd.cut(df['Age'], [15, 24, 34, 44, 49], labels=['15-24', '25-34', '35-44', '45+'], include_lowest=True)"
   ]
  },
  {
   "cell_type": "code",
   "execution_count": 9,
   "metadata": {},
   "outputs": [
    {
     "data": {
      "text/html": [
       "<div>\n",
       "<style scoped>\n",
       "    .dataframe tbody tr th:only-of-type {\n",
       "        vertical-align: middle;\n",
       "    }\n",
       "\n",
       "    .dataframe tbody tr th {\n",
       "        vertical-align: top;\n",
       "    }\n",
       "\n",
       "    .dataframe thead th {\n",
       "        text-align: right;\n",
       "    }\n",
       "</style>\n",
       "<table border=\"1\" class=\"dataframe\">\n",
       "  <thead>\n",
       "    <tr style=\"text-align: right;\">\n",
       "      <th></th>\n",
       "      <th>Age</th>\n",
       "      <th>Sex</th>\n",
       "      <th>Location</th>\n",
       "      <th>GameGenre</th>\n",
       "      <th>PlayTimeHours</th>\n",
       "      <th>GameDifficulty</th>\n",
       "      <th>SessionsPerWeek</th>\n",
       "      <th>AvgSessionDurationMinutes</th>\n",
       "      <th>EngagementLevel</th>\n",
       "    </tr>\n",
       "  </thead>\n",
       "  <tbody>\n",
       "    <tr>\n",
       "      <th>0</th>\n",
       "      <td>43</td>\n",
       "      <td>Male</td>\n",
       "      <td>Other</td>\n",
       "      <td>Strategy</td>\n",
       "      <td>16.271119</td>\n",
       "      <td>Medium</td>\n",
       "      <td>6</td>\n",
       "      <td>108</td>\n",
       "      <td>Medium</td>\n",
       "    </tr>\n",
       "    <tr>\n",
       "      <th>1</th>\n",
       "      <td>29</td>\n",
       "      <td>Female</td>\n",
       "      <td>USA</td>\n",
       "      <td>Strategy</td>\n",
       "      <td>5.525961</td>\n",
       "      <td>Medium</td>\n",
       "      <td>5</td>\n",
       "      <td>144</td>\n",
       "      <td>Medium</td>\n",
       "    </tr>\n",
       "    <tr>\n",
       "      <th>2</th>\n",
       "      <td>22</td>\n",
       "      <td>Female</td>\n",
       "      <td>USA</td>\n",
       "      <td>Sports</td>\n",
       "      <td>8.223755</td>\n",
       "      <td>Easy</td>\n",
       "      <td>16</td>\n",
       "      <td>142</td>\n",
       "      <td>High</td>\n",
       "    </tr>\n",
       "    <tr>\n",
       "      <th>3</th>\n",
       "      <td>35</td>\n",
       "      <td>Male</td>\n",
       "      <td>USA</td>\n",
       "      <td>Action</td>\n",
       "      <td>5.265351</td>\n",
       "      <td>Easy</td>\n",
       "      <td>9</td>\n",
       "      <td>85</td>\n",
       "      <td>Medium</td>\n",
       "    </tr>\n",
       "    <tr>\n",
       "      <th>4</th>\n",
       "      <td>33</td>\n",
       "      <td>Male</td>\n",
       "      <td>Europe</td>\n",
       "      <td>Action</td>\n",
       "      <td>15.531945</td>\n",
       "      <td>Medium</td>\n",
       "      <td>2</td>\n",
       "      <td>131</td>\n",
       "      <td>Medium</td>\n",
       "    </tr>\n",
       "  </tbody>\n",
       "</table>\n",
       "</div>"
      ],
      "text/plain": [
       "   Age     Sex Location GameGenre  PlayTimeHours GameDifficulty  \\\n",
       "0   43    Male    Other  Strategy      16.271119         Medium   \n",
       "1   29  Female      USA  Strategy       5.525961         Medium   \n",
       "2   22  Female      USA    Sports       8.223755           Easy   \n",
       "3   35    Male      USA    Action       5.265351           Easy   \n",
       "4   33    Male   Europe    Action      15.531945         Medium   \n",
       "\n",
       "   SessionsPerWeek  AvgSessionDurationMinutes EngagementLevel  \n",
       "0                6                        108          Medium  \n",
       "1                5                        144          Medium  \n",
       "2               16                        142            High  \n",
       "3                9                         85          Medium  \n",
       "4                2                        131          Medium  "
      ]
     },
     "execution_count": 9,
     "metadata": {},
     "output_type": "execute_result"
    }
   ],
   "source": [
    "df.head(5)"
   ]
  },
  {
   "cell_type": "markdown",
   "metadata": {},
   "source": [
    "We are using EngagementLevel as our target, and we will start with all the other columns as our features. We can tweak after our shotgun of tests."
   ]
  },
  {
   "cell_type": "code",
   "execution_count": 10,
   "metadata": {},
   "outputs": [
    {
     "data": {
      "text/html": [
       "<div>\n",
       "<style scoped>\n",
       "    .dataframe tbody tr th:only-of-type {\n",
       "        vertical-align: middle;\n",
       "    }\n",
       "\n",
       "    .dataframe tbody tr th {\n",
       "        vertical-align: top;\n",
       "    }\n",
       "\n",
       "    .dataframe thead th {\n",
       "        text-align: right;\n",
       "    }\n",
       "</style>\n",
       "<table border=\"1\" class=\"dataframe\">\n",
       "  <thead>\n",
       "    <tr style=\"text-align: right;\">\n",
       "      <th></th>\n",
       "      <th>Age</th>\n",
       "      <th>PlayTimeHours</th>\n",
       "      <th>SessionsPerWeek</th>\n",
       "      <th>AvgSessionDurationMinutes</th>\n",
       "      <th>EngagementLevel</th>\n",
       "      <th>Sex_Male</th>\n",
       "      <th>Location_Europe</th>\n",
       "      <th>Location_Other</th>\n",
       "      <th>Location_USA</th>\n",
       "      <th>GameGenre_RPG</th>\n",
       "      <th>GameGenre_Simulation</th>\n",
       "      <th>GameGenre_Sports</th>\n",
       "      <th>GameGenre_Strategy</th>\n",
       "      <th>GameDifficulty_Hard</th>\n",
       "      <th>GameDifficulty_Medium</th>\n",
       "    </tr>\n",
       "  </thead>\n",
       "  <tbody>\n",
       "    <tr>\n",
       "      <th>0</th>\n",
       "      <td>43</td>\n",
       "      <td>16.271119</td>\n",
       "      <td>6</td>\n",
       "      <td>108</td>\n",
       "      <td>Medium</td>\n",
       "      <td>1</td>\n",
       "      <td>0</td>\n",
       "      <td>1</td>\n",
       "      <td>0</td>\n",
       "      <td>0</td>\n",
       "      <td>0</td>\n",
       "      <td>0</td>\n",
       "      <td>1</td>\n",
       "      <td>0</td>\n",
       "      <td>1</td>\n",
       "    </tr>\n",
       "    <tr>\n",
       "      <th>1</th>\n",
       "      <td>29</td>\n",
       "      <td>5.525961</td>\n",
       "      <td>5</td>\n",
       "      <td>144</td>\n",
       "      <td>Medium</td>\n",
       "      <td>0</td>\n",
       "      <td>0</td>\n",
       "      <td>0</td>\n",
       "      <td>1</td>\n",
       "      <td>0</td>\n",
       "      <td>0</td>\n",
       "      <td>0</td>\n",
       "      <td>1</td>\n",
       "      <td>0</td>\n",
       "      <td>1</td>\n",
       "    </tr>\n",
       "    <tr>\n",
       "      <th>2</th>\n",
       "      <td>22</td>\n",
       "      <td>8.223755</td>\n",
       "      <td>16</td>\n",
       "      <td>142</td>\n",
       "      <td>High</td>\n",
       "      <td>0</td>\n",
       "      <td>0</td>\n",
       "      <td>0</td>\n",
       "      <td>1</td>\n",
       "      <td>0</td>\n",
       "      <td>0</td>\n",
       "      <td>1</td>\n",
       "      <td>0</td>\n",
       "      <td>0</td>\n",
       "      <td>0</td>\n",
       "    </tr>\n",
       "    <tr>\n",
       "      <th>3</th>\n",
       "      <td>35</td>\n",
       "      <td>5.265351</td>\n",
       "      <td>9</td>\n",
       "      <td>85</td>\n",
       "      <td>Medium</td>\n",
       "      <td>1</td>\n",
       "      <td>0</td>\n",
       "      <td>0</td>\n",
       "      <td>1</td>\n",
       "      <td>0</td>\n",
       "      <td>0</td>\n",
       "      <td>0</td>\n",
       "      <td>0</td>\n",
       "      <td>0</td>\n",
       "      <td>0</td>\n",
       "    </tr>\n",
       "    <tr>\n",
       "      <th>4</th>\n",
       "      <td>33</td>\n",
       "      <td>15.531945</td>\n",
       "      <td>2</td>\n",
       "      <td>131</td>\n",
       "      <td>Medium</td>\n",
       "      <td>1</td>\n",
       "      <td>1</td>\n",
       "      <td>0</td>\n",
       "      <td>0</td>\n",
       "      <td>0</td>\n",
       "      <td>0</td>\n",
       "      <td>0</td>\n",
       "      <td>0</td>\n",
       "      <td>0</td>\n",
       "      <td>1</td>\n",
       "    </tr>\n",
       "    <tr>\n",
       "      <th>...</th>\n",
       "      <td>...</td>\n",
       "      <td>...</td>\n",
       "      <td>...</td>\n",
       "      <td>...</td>\n",
       "      <td>...</td>\n",
       "      <td>...</td>\n",
       "      <td>...</td>\n",
       "      <td>...</td>\n",
       "      <td>...</td>\n",
       "      <td>...</td>\n",
       "      <td>...</td>\n",
       "      <td>...</td>\n",
       "      <td>...</td>\n",
       "      <td>...</td>\n",
       "      <td>...</td>\n",
       "    </tr>\n",
       "    <tr>\n",
       "      <th>40029</th>\n",
       "      <td>32</td>\n",
       "      <td>20.619662</td>\n",
       "      <td>4</td>\n",
       "      <td>75</td>\n",
       "      <td>Medium</td>\n",
       "      <td>1</td>\n",
       "      <td>0</td>\n",
       "      <td>0</td>\n",
       "      <td>1</td>\n",
       "      <td>0</td>\n",
       "      <td>0</td>\n",
       "      <td>0</td>\n",
       "      <td>1</td>\n",
       "      <td>0</td>\n",
       "      <td>0</td>\n",
       "    </tr>\n",
       "    <tr>\n",
       "      <th>40030</th>\n",
       "      <td>44</td>\n",
       "      <td>13.539280</td>\n",
       "      <td>19</td>\n",
       "      <td>114</td>\n",
       "      <td>High</td>\n",
       "      <td>0</td>\n",
       "      <td>0</td>\n",
       "      <td>1</td>\n",
       "      <td>0</td>\n",
       "      <td>0</td>\n",
       "      <td>1</td>\n",
       "      <td>0</td>\n",
       "      <td>0</td>\n",
       "      <td>1</td>\n",
       "      <td>0</td>\n",
       "    </tr>\n",
       "    <tr>\n",
       "      <th>40031</th>\n",
       "      <td>15</td>\n",
       "      <td>0.240057</td>\n",
       "      <td>10</td>\n",
       "      <td>176</td>\n",
       "      <td>High</td>\n",
       "      <td>0</td>\n",
       "      <td>0</td>\n",
       "      <td>0</td>\n",
       "      <td>1</td>\n",
       "      <td>1</td>\n",
       "      <td>0</td>\n",
       "      <td>0</td>\n",
       "      <td>0</td>\n",
       "      <td>0</td>\n",
       "      <td>0</td>\n",
       "    </tr>\n",
       "    <tr>\n",
       "      <th>40032</th>\n",
       "      <td>34</td>\n",
       "      <td>14.017818</td>\n",
       "      <td>3</td>\n",
       "      <td>128</td>\n",
       "      <td>Medium</td>\n",
       "      <td>1</td>\n",
       "      <td>0</td>\n",
       "      <td>0</td>\n",
       "      <td>1</td>\n",
       "      <td>0</td>\n",
       "      <td>0</td>\n",
       "      <td>1</td>\n",
       "      <td>0</td>\n",
       "      <td>0</td>\n",
       "      <td>1</td>\n",
       "    </tr>\n",
       "    <tr>\n",
       "      <th>40033</th>\n",
       "      <td>19</td>\n",
       "      <td>10.083804</td>\n",
       "      <td>13</td>\n",
       "      <td>84</td>\n",
       "      <td>Medium</td>\n",
       "      <td>1</td>\n",
       "      <td>0</td>\n",
       "      <td>0</td>\n",
       "      <td>1</td>\n",
       "      <td>0</td>\n",
       "      <td>0</td>\n",
       "      <td>1</td>\n",
       "      <td>0</td>\n",
       "      <td>0</td>\n",
       "      <td>0</td>\n",
       "    </tr>\n",
       "  </tbody>\n",
       "</table>\n",
       "<p>40034 rows × 15 columns</p>\n",
       "</div>"
      ],
      "text/plain": [
       "       Age  PlayTimeHours  SessionsPerWeek  AvgSessionDurationMinutes  \\\n",
       "0       43      16.271119                6                        108   \n",
       "1       29       5.525961                5                        144   \n",
       "2       22       8.223755               16                        142   \n",
       "3       35       5.265351                9                         85   \n",
       "4       33      15.531945                2                        131   \n",
       "...    ...            ...              ...                        ...   \n",
       "40029   32      20.619662                4                         75   \n",
       "40030   44      13.539280               19                        114   \n",
       "40031   15       0.240057               10                        176   \n",
       "40032   34      14.017818                3                        128   \n",
       "40033   19      10.083804               13                         84   \n",
       "\n",
       "      EngagementLevel  Sex_Male  Location_Europe  Location_Other  \\\n",
       "0              Medium         1                0               1   \n",
       "1              Medium         0                0               0   \n",
       "2                High         0                0               0   \n",
       "3              Medium         1                0               0   \n",
       "4              Medium         1                1               0   \n",
       "...               ...       ...              ...             ...   \n",
       "40029          Medium         1                0               0   \n",
       "40030            High         0                0               1   \n",
       "40031            High         0                0               0   \n",
       "40032          Medium         1                0               0   \n",
       "40033          Medium         1                0               0   \n",
       "\n",
       "       Location_USA  GameGenre_RPG  GameGenre_Simulation  GameGenre_Sports  \\\n",
       "0                 0              0                     0                 0   \n",
       "1                 1              0                     0                 0   \n",
       "2                 1              0                     0                 1   \n",
       "3                 1              0                     0                 0   \n",
       "4                 0              0                     0                 0   \n",
       "...             ...            ...                   ...               ...   \n",
       "40029             1              0                     0                 0   \n",
       "40030             0              0                     1                 0   \n",
       "40031             1              1                     0                 0   \n",
       "40032             1              0                     0                 1   \n",
       "40033             1              0                     0                 1   \n",
       "\n",
       "       GameGenre_Strategy  GameDifficulty_Hard  GameDifficulty_Medium  \n",
       "0                       1                    0                      1  \n",
       "1                       1                    0                      1  \n",
       "2                       0                    0                      0  \n",
       "3                       0                    0                      0  \n",
       "4                       0                    0                      1  \n",
       "...                   ...                  ...                    ...  \n",
       "40029                   1                    0                      0  \n",
       "40030                   0                    1                      0  \n",
       "40031                   0                    0                      0  \n",
       "40032                   0                    0                      1  \n",
       "40033                   0                    0                      0  \n",
       "\n",
       "[40034 rows x 15 columns]"
      ]
     },
     "execution_count": 10,
     "metadata": {},
     "output_type": "execute_result"
    }
   ],
   "source": [
    "df = pd.get_dummies(df, columns=['Sex', 'Location', 'GameGenre', 'GameDifficulty'], drop_first=True)\n",
    "# The drop_first=True parameter avoids multicollinearity by dropping the first category in each variable\n",
    "df"
   ]
  },
  {
   "cell_type": "code",
   "execution_count": 11,
   "metadata": {},
   "outputs": [],
   "source": [
    "X = df.drop('EngagementLevel', axis=1)\n",
    "y = df['EngagementLevel']"
   ]
  },
  {
   "cell_type": "code",
   "execution_count": 12,
   "metadata": {},
   "outputs": [],
   "source": [
    "# Split the data into train and test sets\n",
    "X_train, X_test, y_train, y_test = train_test_split(X, y, test_size=0.3, random_state=42)"
   ]
  },
  {
   "cell_type": "code",
   "execution_count": 13,
   "metadata": {},
   "outputs": [
    {
     "name": "stdout",
     "output_type": "stream",
     "text": [
      "Logistic Regression Accuracy: 0.7517275830488719\n"
     ]
    }
   ],
   "source": [
    "# 1. Logistic Regression\n",
    "# Chosen because it's a simple and interpretable linear model, good for baseline performance.\n",
    "lr = LogisticRegression()\n",
    "lr.fit(X_train, y_train)\n",
    "y_pred_lr = lr.predict(X_test)\n",
    "print(\"Logistic Regression Accuracy:\", accuracy_score(y_test, y_pred_lr))"
   ]
  },
  {
   "cell_type": "code",
   "execution_count": 14,
   "metadata": {},
   "outputs": [
    {
     "name": "stdout",
     "output_type": "stream",
     "text": [
      "Random Forest Accuracy: 0.8740321372075598\n"
     ]
    }
   ],
   "source": [
    "# 2. Random Forest Classifier\n",
    "# Selected as it’s an ensemble method, combining multiple decision trees to improve accuracy and reduce overfitting.\n",
    "rf = RandomForestClassifier()\n",
    "rf.fit(X_train, y_train)\n",
    "y_pred_rf = rf.predict(X_test)\n",
    "print(\"Random Forest Accuracy:\", accuracy_score(y_test, y_pred_rf))"
   ]
  },
  {
   "cell_type": "code",
   "execution_count": 15,
   "metadata": {},
   "outputs": [
    {
     "name": "stdout",
     "output_type": "stream",
     "text": [
      "SVM Accuracy: 0.8686204312713346\n"
     ]
    }
   ],
   "source": [
    "# 3. Support Vector Machine (SVM)\n",
    "# SVM is powerful for high-dimensional spaces and is effective when the number of dimensions is greater than the number of samples.\n",
    "svm = SVC()\n",
    "svm.fit(X_train, y_train)\n",
    "y_pred_svm = svm.predict(X_test)\n",
    "print(\"SVM Accuracy:\", accuracy_score(y_test, y_pred_svm))"
   ]
  },
  {
   "cell_type": "code",
   "execution_count": 16,
   "metadata": {},
   "outputs": [
    {
     "name": "stdout",
     "output_type": "stream",
     "text": [
      "KNN Accuracy: 0.8461410373823994\n"
     ]
    }
   ],
   "source": [
    "# 4. K-Nearest Neighbors (KNN)\n",
    "# KNN is a simple, instance-based learning method that works well for smaller datasets.\n",
    "knn = KNN()\n",
    "knn.fit(X_train, y_train)\n",
    "y_pred_knn = knn.predict(X_test)\n",
    "print(\"KNN Accuracy:\", accuracy_score(y_test, y_pred_knn))"
   ]
  },
  {
   "cell_type": "code",
   "execution_count": 17,
   "metadata": {},
   "outputs": [
    {
     "name": "stdout",
     "output_type": "stream",
     "text": [
      "Naive Bayes Accuracy: 0.8273249521272167\n"
     ]
    }
   ],
   "source": [
    "# 5. Gaussian Naive Bayes\n",
    "# Naive Bayes is fast, and performs well on small datasets with categorical features.\n",
    "nb = GaussianNB()\n",
    "nb.fit(X_train, y_train)\n",
    "y_pred_nb = nb.predict(X_test)\n",
    "print(\"Naive Bayes Accuracy:\", accuracy_score(y_test, y_pred_nb))"
   ]
  },
  {
   "cell_type": "code",
   "execution_count": 18,
   "metadata": {},
   "outputs": [
    {
     "name": "stdout",
     "output_type": "stream",
     "text": [
      "Decision Tree Accuracy: 0.7994338523020564\n"
     ]
    }
   ],
   "source": [
    "# 6. Decision Tree Classifier\n",
    "# Decision Trees are easy to interpret and can handle both numerical and categorical data.\n",
    "dt = DecisionTreeClassifier()\n",
    "dt.fit(X_train, y_train)\n",
    "y_pred_dt = dt.predict(X_test)\n",
    "print(\"Decision Tree Accuracy:\", accuracy_score(y_test, y_pred_dt))"
   ]
  },
  {
   "cell_type": "code",
   "execution_count": 19,
   "metadata": {},
   "outputs": [
    {
     "name": "stdout",
     "output_type": "stream",
     "text": [
      "Gradient Boosting Accuracy: 0.8786945300141537\n"
     ]
    }
   ],
   "source": [
    "# 7. Gradient Boosting Classifier\n",
    "# Gradient Boosting is another ensemble method like Random Forest, but it builds trees sequentially to reduce errors.\n",
    "gb = GradientBoostingClassifier()\n",
    "gb.fit(X_train, y_train)\n",
    "y_pred_gb = gb.predict(X_test)\n",
    "print(\"Gradient Boosting Accuracy:\", accuracy_score(y_test, y_pred_gb))"
   ]
  },
  {
   "cell_type": "code",
   "execution_count": 27,
   "metadata": {},
   "outputs": [
    {
     "name": "stdout",
     "output_type": "stream",
     "text": [
      "\n",
      "Classification Report for Logistic Regression:\n",
      "               precision    recall  f1-score   support\n",
      "\n",
      "        High       0.81      0.74      0.77      3132\n",
      "         Low       0.73      0.64      0.69      3069\n",
      "      Medium       0.73      0.82      0.77      5810\n",
      "\n",
      "    accuracy                           0.75     12011\n",
      "   macro avg       0.76      0.73      0.74     12011\n",
      "weighted avg       0.75      0.75      0.75     12011\n",
      "\n",
      "----------------------------------------\n",
      "\n",
      "\n",
      "Classification Report for Random Forest:\n",
      "               precision    recall  f1-score   support\n",
      "\n",
      "        High       0.91      0.85      0.88      3132\n",
      "         Low       0.85      0.82      0.84      3069\n",
      "      Medium       0.87      0.91      0.89      5810\n",
      "\n",
      "    accuracy                           0.87     12011\n",
      "   macro avg       0.88      0.86      0.87     12011\n",
      "weighted avg       0.87      0.87      0.87     12011\n",
      "\n",
      "----------------------------------------\n",
      "\n",
      "\n",
      "Classification Report for SVM:\n",
      "               precision    recall  f1-score   support\n",
      "\n",
      "        High       0.91      0.85      0.88      3132\n",
      "         Low       0.84      0.80      0.82      3069\n",
      "      Medium       0.86      0.91      0.89      5810\n",
      "\n",
      "    accuracy                           0.87     12011\n",
      "   macro avg       0.87      0.86      0.86     12011\n",
      "weighted avg       0.87      0.87      0.87     12011\n",
      "\n",
      "----------------------------------------\n",
      "\n",
      "\n",
      "Classification Report for KNN:\n",
      "               precision    recall  f1-score   support\n",
      "\n",
      "        High       0.88      0.85      0.86      3132\n",
      "         Low       0.80      0.79      0.80      3069\n",
      "      Medium       0.85      0.87      0.86      5810\n",
      "\n",
      "    accuracy                           0.85     12011\n",
      "   macro avg       0.84      0.84      0.84     12011\n",
      "weighted avg       0.85      0.85      0.85     12011\n",
      "\n",
      "----------------------------------------\n",
      "\n",
      "\n",
      "Classification Report for Gaussian Naive Bayes:\n",
      "               precision    recall  f1-score   support\n",
      "\n",
      "        High       0.93      0.77      0.84      3132\n",
      "         Low       0.86      0.67      0.76      3069\n",
      "      Medium       0.78      0.94      0.85      5810\n",
      "\n",
      "    accuracy                           0.83     12011\n",
      "   macro avg       0.86      0.79      0.82     12011\n",
      "weighted avg       0.84      0.83      0.82     12011\n",
      "\n",
      "----------------------------------------\n",
      "\n",
      "\n",
      "Classification Report for Decision Tree Classifier:\n",
      "               precision    recall  f1-score   support\n",
      "\n",
      "        High       0.80      0.80      0.80      3132\n",
      "         Low       0.74      0.75      0.75      3069\n",
      "      Medium       0.83      0.83      0.83      5810\n",
      "\n",
      "    accuracy                           0.80     12011\n",
      "   macro avg       0.79      0.79      0.79     12011\n",
      "weighted avg       0.80      0.80      0.80     12011\n",
      "\n",
      "----------------------------------------\n",
      "\n",
      "\n",
      "Classification Report for Gradient Booster Classifier:\n",
      "               precision    recall  f1-score   support\n",
      "\n",
      "        High       0.90      0.87      0.89      3132\n",
      "         Low       0.85      0.83      0.84      3069\n",
      "      Medium       0.88      0.91      0.89      5810\n",
      "\n",
      "    accuracy                           0.88     12011\n",
      "   macro avg       0.88      0.87      0.87     12011\n",
      "weighted avg       0.88      0.88      0.88     12011\n",
      "\n"
     ]
    }
   ],
   "source": [
    "# Display classification reports\n",
    "print(\"\\nClassification Report for Logistic Regression:\\n\", classification_report(y_test, y_pred_lr))\n",
    "print(\"----------------------------------------\\n\")\n",
    "print(\"\\nClassification Report for Random Forest:\\n\", classification_report(y_test, y_pred_rf))\n",
    "print(\"----------------------------------------\\n\")\n",
    "print(\"\\nClassification Report for SVM:\\n\", classification_report(y_test, y_pred_svm))\n",
    "print(\"----------------------------------------\\n\")\n",
    "print(\"\\nClassification Report for KNN:\\n\", classification_report(y_test, y_pred_knn))\n",
    "print(\"----------------------------------------\\n\")\n",
    "print(\"\\nClassification Report for Gaussian Naive Bayes:\\n\", classification_report(y_test, y_pred_nb))\n",
    "print(\"----------------------------------------\\n\")\n",
    "print(\"\\nClassification Report for Decision Tree Classifier:\\n\", classification_report(y_test, y_pred_dt))\n",
    "print(\"----------------------------------------\\n\")\n",
    "print(\"\\nClassification Report for Gradient Booster Classifier:\\n\", classification_report(y_test, y_pred_gb))"
   ]
  },
  {
   "cell_type": "markdown",
   "metadata": {},
   "source": [
    "# Talk about results from above"
   ]
  },
  {
   "cell_type": "markdown",
   "metadata": {},
   "source": [
    "Before we select a model to dig deeper into, let's run a pipeline that scales the data first and then runs the prediction tests. We run these through pipelines to make sure all processes are completed in the proper order, and also to avoid data leakage. "
   ]
  },
  {
   "cell_type": "code",
   "execution_count": 24,
   "metadata": {},
   "outputs": [],
   "source": [
    "# Create pipelines for each classifier with StandardScaler\n",
    "pipelines = {\n",
    "    'Logistic Regression': Pipeline([\n",
    "        ('scaler', StandardScaler()),\n",
    "        ('classifier', LogisticRegression())\n",
    "    ]),\n",
    "    'Random Forest': Pipeline([\n",
    "        ('scaler', StandardScaler()),\n",
    "        ('classifier', RandomForestClassifier())\n",
    "    ]),\n",
    "    'SVM': Pipeline([\n",
    "        ('scaler', StandardScaler()),\n",
    "        ('classifier', SVC())\n",
    "    ]),\n",
    "    'KNN': Pipeline([\n",
    "        ('scaler', StandardScaler()),\n",
    "        ('classifier', KNN())\n",
    "    ]),\n",
    "    'Naive Bayes': Pipeline([\n",
    "        ('scaler', StandardScaler()),\n",
    "        ('classifier', GaussianNB())\n",
    "    ]),\n",
    "    'Decision Tree': Pipeline([\n",
    "        ('scaler', StandardScaler()),\n",
    "        ('classifier', DecisionTreeClassifier())\n",
    "    ]),\n",
    "    'Gradient Boosting': Pipeline([\n",
    "        ('scaler', StandardScaler()),\n",
    "        ('classifier', GradientBoostingClassifier())\n",
    "    ])\n",
    "}"
   ]
  },
  {
   "cell_type": "code",
   "execution_count": 25,
   "metadata": {},
   "outputs": [
    {
     "name": "stdout",
     "output_type": "stream",
     "text": [
      "\n",
      "Logistic Regression Pipeline Results:\n",
      "Accuracy: 0.8183\n",
      "\n",
      "Random Forest Pipeline Results:\n",
      "Accuracy: 0.8758\n",
      "\n",
      "SVM Pipeline Results:\n",
      "Accuracy: 0.8626\n",
      "\n",
      "KNN Pipeline Results:\n",
      "Accuracy: 0.7617\n",
      "\n",
      "Naive Bayes Pipeline Results:\n",
      "Accuracy: 0.8273\n",
      "\n",
      "Decision Tree Pipeline Results:\n",
      "Accuracy: 0.7956\n",
      "\n",
      "Gradient Boosting Pipeline Results:\n",
      "Accuracy: 0.8786\n"
     ]
    }
   ],
   "source": [
    "model_accuracies = {}\n",
    "# Train and evaluate each pipeline\n",
    "for name, pipeline in pipelines.items():\n",
    "    print(f\"\\n{name} Pipeline Results:\")\n",
    "    pipeline.fit(X_train, y_train)\n",
    "    y_pred = pipeline.predict(X_test)\n",
    "    accuracy = accuracy_score(y_test, y_pred)\n",
    "    report = classification_report(y_test, y_pred)\n",
    "    model_accuracies[name] = {'accuracy': accuracy, 'report': report}\n",
    "    print(f\"Accuracy: {accuracy:.4f}\")\n",
    "    # print(f\"Classification Report:\\n{classification_report(y_test, y_pred)}\")\n"
   ]
  },
  {
   "cell_type": "code",
   "execution_count": 26,
   "metadata": {},
   "outputs": [
    {
     "name": "stdout",
     "output_type": "stream",
     "text": [
      "\n",
      "Best Model: Gradient Boosting with Accuracy: 0.8786\n",
      "Classification Report: \n",
      "              precision    recall  f1-score   support\n",
      "\n",
      "        High       0.90      0.87      0.89      3132\n",
      "         Low       0.85      0.82      0.84      3069\n",
      "      Medium       0.88      0.91      0.89      5810\n",
      "\n",
      "    accuracy                           0.88     12011\n",
      "   macro avg       0.88      0.87      0.87     12011\n",
      "weighted avg       0.88      0.88      0.88     12011\n",
      "\n"
     ]
    }
   ],
   "source": [
    "# Find the model with the highest accuracy\n",
    "best_model = max(model_accuracies, key=lambda x: model_accuracies[x]['accuracy'])\n",
    "best_accuracy = model_accuracies[best_model]['accuracy']\n",
    "best_report = model_accuracies[best_model]['report']\n",
    "\n",
    "\n",
    "# Print the model with the highest accuracy and its accuracy\n",
    "print(f\"\\nBest Model: {best_model} with Accuracy: {best_accuracy:.4f}\")\n",
    "print(f'Classification Report: \\n{best_report}')"
   ]
  },
  {
   "cell_type": "markdown",
   "metadata": {},
   "source": [
    "Most models came to very similiar if not the same accuracy. Logistic Regression and KNN had big swings, where LR improved in accuracy and KNN decreased. I suppose that is because I created dummy data for the categorical features that improved LR, but that also created more data so KNN worsened. "
   ]
  },
  {
   "cell_type": "markdown",
   "metadata": {},
   "source": [
    "We are going focus on tuning the Gradient Boosting model to see if we can get a better accuracy."
   ]
  },
  {
   "cell_type": "code",
   "execution_count": 53,
   "metadata": {},
   "outputs": [],
   "source": [
    "# # Define the parameter grid\n",
    "# param_grid = {\n",
    "#     'learning_rate': [0.01, 0.1, 0.2],\n",
    "#     'n_estimators': [100, 200, 500],\n",
    "#     'max_depth': [3, 5, 7],\n",
    "#     'min_samples_split': [2, 5, 10],\n",
    "#     'min_samples_leaf': [1, 2, 4],\n",
    "#     'subsample': [0.8, 1.0]\n",
    "# }\n",
    "\n",
    "# # Initialize the model\n",
    "# gb = GradientBoostingClassifier(random_state=42)\n",
    "\n",
    "# # Grid Search or Randomized Search\n",
    "# grid_search = GridSearchCV(estimator=gb, param_grid=param_grid, cv=5, n_jobs=-1, verbose=2, scoring='accuracy')\n",
    "# grid_search.fit(X_train, y_train)\n",
    "\n",
    "# # Get the best parameters\n",
    "# best_params = grid_search.best_params_\n",
    "# print(f\"Best parameters found: {best_params}\")"
   ]
  },
  {
   "cell_type": "markdown",
   "metadata": {},
   "source": [
    "Image below of the test that was run above, to save on load time of this notebook."
   ]
  },
  {
   "cell_type": "markdown",
   "metadata": {},
   "source": [
    "![70 minutes of running a model results](model_run_images/gradient_boosting_grid_search_486x5.png \"Best parameters found\")"
   ]
  },
  {
   "cell_type": "markdown",
   "metadata": {},
   "source": [
    "Best parameters found from above: {'learning_rate': 0.01, 'max_depth': 5, 'min_samples_leaf': 4, 'min_samples_split': 2, 'n_estimators': 500, 'subsample': 0.8}"
   ]
  },
  {
   "cell_type": "code",
   "execution_count": 30,
   "metadata": {},
   "outputs": [
    {
     "name": "stdout",
     "output_type": "stream",
     "text": [
      "Test set accuracy: 0.8814\n"
     ]
    }
   ],
   "source": [
    "# # Evaluate the best model on the test set\n",
    "# best_model = grid_search.best_estimator_\n",
    "# test_accuracy = best_model.score(X_test, y_test)\n",
    "# print(f\"Test set accuracy: {test_accuracy:.4f}\")"
   ]
  },
  {
   "cell_type": "markdown",
   "metadata": {},
   "source": [
    "Before Gridsearch we attained Best Model: Gradient Boosting with Accuracy: 0.8786\\\n",
    "After 70 mins of GridSearchCV we Test set accuracy: 0.8814"
   ]
  },
  {
   "cell_type": "code",
   "execution_count": 35,
   "metadata": {},
   "outputs": [
    {
     "name": "stdout",
     "output_type": "stream",
     "text": [
      "Fitting 5 folds for each of 1 candidates, totalling 5 fits\n"
     ]
    },
    {
     "name": "stderr",
     "output_type": "stream",
     "text": [
      "[Parallel(n_jobs=-1)]: Using backend LokyBackend with 24 concurrent workers.\n",
      "[Parallel(n_jobs=-1)]: Done   3 out of   5 | elapsed:   47.1s remaining:   31.4s\n",
      "[Parallel(n_jobs=-1)]: Done   5 out of   5 | elapsed:   47.2s finished\n"
     ]
    },
    {
     "data": {
      "text/plain": [
       "GridSearchCV(cv=5, estimator=GradientBoostingClassifier(random_state=42),\n",
       "             n_jobs=-1,\n",
       "             param_grid={'learning_rate': [0.01], 'max_depth': [5],\n",
       "                         'min_samples_leaf': [4], 'min_samples_split': [2],\n",
       "                         'n_estimators': [500], 'subsample': [0.8]},\n",
       "             scoring='accuracy', verbose=2)"
      ]
     },
     "execution_count": 35,
     "metadata": {},
     "output_type": "execute_result"
    }
   ],
   "source": [
    "param_grid = {'learning_rate': [0.01],\n",
    "              'max_depth': [5],\n",
    "              'min_samples_leaf': [4],\n",
    "              'min_samples_split': [2],\n",
    "              'n_estimators': [500],\n",
    "              'subsample': [0.8]}\n",
    "\n",
    "# Initialize the model\n",
    "gb = GradientBoostingClassifier(random_state=42)\n",
    "\n",
    "# Grid Search or Randomized Search\n",
    "best_grid_search = GridSearchCV(estimator=gb, param_grid=param_grid, cv=5, n_jobs=-1, verbose=2, scoring='accuracy')\n",
    "best_grid_search.fit(X_train, y_train)\n"
   ]
  },
  {
   "cell_type": "code",
   "execution_count": 36,
   "metadata": {},
   "outputs": [
    {
     "name": "stdout",
     "output_type": "stream",
     "text": [
      "Best cross-validated score: 0.8839\n"
     ]
    }
   ],
   "source": [
    "best_score = grid_search.best_score_\n",
    "print(f\"Best cross-validated score: {best_score:.4f}\")"
   ]
  },
  {
   "cell_type": "code",
   "execution_count": 37,
   "metadata": {},
   "outputs": [
    {
     "name": "stdout",
     "output_type": "stream",
     "text": [
      "Best estimator:\n",
      "GradientBoostingClassifier(learning_rate=0.01, max_depth=5, min_samples_leaf=4,\n",
      "                           n_estimators=500, random_state=42, subsample=0.8)\n"
     ]
    }
   ],
   "source": [
    "best_estimator = grid_search.best_estimator_\n",
    "print(f\"Best estimator:\\n{best_estimator}\")"
   ]
  },
  {
   "cell_type": "code",
   "execution_count": 38,
   "metadata": {},
   "outputs": [
    {
     "name": "stdout",
     "output_type": "stream",
     "text": [
      "CV Results Summary:\n",
      "                                                params  mean_test_score  \\\n",
      "0    {'learning_rate': 0.01, 'max_depth': 3, 'min_s...         0.848196   \n",
      "1    {'learning_rate': 0.01, 'max_depth': 3, 'min_s...         0.853156   \n",
      "2    {'learning_rate': 0.01, 'max_depth': 3, 'min_s...         0.868893   \n",
      "3    {'learning_rate': 0.01, 'max_depth': 3, 'min_s...         0.869250   \n",
      "4    {'learning_rate': 0.01, 'max_depth': 3, 'min_s...         0.881133   \n",
      "..                                                 ...              ...   \n",
      "481  {'learning_rate': 0.2, 'max_depth': 7, 'min_sa...         0.878921   \n",
      "482  {'learning_rate': 0.2, 'max_depth': 7, 'min_sa...         0.876815   \n",
      "483  {'learning_rate': 0.2, 'max_depth': 7, 'min_sa...         0.877493   \n",
      "484  {'learning_rate': 0.2, 'max_depth': 7, 'min_sa...         0.877244   \n",
      "485  {'learning_rate': 0.2, 'max_depth': 7, 'min_sa...         0.876066   \n",
      "\n",
      "     std_test_score  rank_test_score  \n",
      "0          0.009147              484  \n",
      "1          0.008238              472  \n",
      "2          0.004826              463  \n",
      "3          0.005418              457  \n",
      "4          0.005006              181  \n",
      "..              ...              ...  \n",
      "481        0.004703              304  \n",
      "482        0.005163              389  \n",
      "483        0.005747              367  \n",
      "484        0.004763              377  \n",
      "485        0.004929              417  \n",
      "\n",
      "[486 rows x 4 columns]\n"
     ]
    }
   ],
   "source": [
    "cv_results = pd.DataFrame(grid_search.cv_results_)\n",
    "print(\"CV Results Summary:\")\n",
    "print(cv_results[['params', 'mean_test_score', 'std_test_score', 'rank_test_score']])"
   ]
  },
  {
   "cell_type": "code",
   "execution_count": 39,
   "metadata": {},
   "outputs": [
    {
     "name": "stdout",
     "output_type": "stream",
     "text": [
      "Top 10 parameter combinations:\n",
      "                                                params  mean_test_score  \\\n",
      "100  {'learning_rate': 0.01, 'max_depth': 5, 'min_s...         0.883917   \n",
      "94   {'learning_rate': 0.01, 'max_depth': 5, 'min_s...         0.883917   \n",
      "106  {'learning_rate': 0.01, 'max_depth': 5, 'min_s...         0.883810   \n",
      "64   {'learning_rate': 0.01, 'max_depth': 5, 'min_s...         0.883703   \n",
      "70   {'learning_rate': 0.01, 'max_depth': 5, 'min_s...         0.883631   \n",
      "77   {'learning_rate': 0.01, 'max_depth': 5, 'min_s...         0.883596   \n",
      "83   {'learning_rate': 0.01, 'max_depth': 5, 'min_s...         0.883560   \n",
      "58   {'learning_rate': 0.01, 'max_depth': 5, 'min_s...         0.883524   \n",
      "88   {'learning_rate': 0.01, 'max_depth': 5, 'min_s...         0.883524   \n",
      "82   {'learning_rate': 0.01, 'max_depth': 5, 'min_s...         0.883489   \n",
      "\n",
      "     std_test_score  rank_test_score  \n",
      "100        0.005521                1  \n",
      "94         0.005521                1  \n",
      "106        0.005516                3  \n",
      "64         0.005348                4  \n",
      "70         0.005354                5  \n",
      "77         0.005268                6  \n",
      "83         0.005533                7  \n",
      "58         0.005445                8  \n",
      "88         0.005428                9  \n",
      "82         0.005393               10  \n"
     ]
    }
   ],
   "source": [
    "# Sort by rank to see the top combinations\n",
    "top_results = cv_results.sort_values(by='rank_test_score').head(10)\n",
    "print(\"Top 10 parameter combinations:\")\n",
    "print(top_results[['params', 'mean_test_score', 'std_test_score', 'rank_test_score']])"
   ]
  },
  {
   "cell_type": "code",
   "execution_count": 40,
   "metadata": {},
   "outputs": [
    {
     "name": "stdout",
     "output_type": "stream",
     "text": [
      "Best index in cv_results_: 94\n"
     ]
    }
   ],
   "source": [
    "best_index = grid_search.best_index_\n",
    "print(f\"Best index in cv_results_: {best_index}\")"
   ]
  },
  {
   "cell_type": "code",
   "execution_count": 41,
   "metadata": {},
   "outputs": [
    {
     "name": "stdout",
     "output_type": "stream",
     "text": [
      "Time taken to refit the best model: 54.81 seconds\n"
     ]
    }
   ],
   "source": [
    "refit_time = grid_search.refit_time_\n",
    "print(f\"Time taken to refit the best model: {refit_time:.2f} seconds\")"
   ]
  },
  {
   "cell_type": "code",
   "execution_count": 42,
   "metadata": {},
   "outputs": [
    {
     "data": {
      "image/png": "[encoded data removed]",
      "text/plain": [
       "<Figure size 576x432 with 1 Axes>"
      ]
     },
     "metadata": {},
     "output_type": "display_data"
    }
   ],
   "source": [
    "# Predict labels\n",
    "y_pred = best_grid_search.predict(X_test)\n",
    "\n",
    "# Create confusion matrix\n",
    "cm = confusion_matrix(y_test, y_pred)\n",
    "\n",
    "# Plot heatmap\n",
    "plt.figure(figsize=(8, 6))\n",
    "sns.heatmap(cm, annot=True, fmt='d', cmap='Blues', cbar=False, \n",
    "            xticklabels=best_grid_search.classes_, yticklabels=best_grid_search.classes_)\n",
    "plt.xlabel('Predicted Label')\n",
    "plt.ylabel('True Label')\n",
    "plt.title('Confusion Matrix')\n",
    "plt.show()"
   ]
  },
  {
   "cell_type": "code",
   "execution_count": 43,
   "metadata": {},
   "outputs": [
    {
     "name": "stdout",
     "output_type": "stream",
     "text": [
      "Classification Report:\n",
      "\n",
      "              precision    recall  f1-score   support\n",
      "\n",
      "        High       0.91      0.87      0.89      3132\n",
      "         Low       0.85      0.84      0.84      3069\n",
      "      Medium       0.88      0.91      0.90      5810\n",
      "\n",
      "    accuracy                           0.88     12011\n",
      "   macro avg       0.88      0.87      0.88     12011\n",
      "weighted avg       0.88      0.88      0.88     12011\n",
      "\n"
     ]
    }
   ],
   "source": [
    "# Generate classification report\n",
    "report = classification_report(y_test, y_pred, target_names=best_grid_search.classes_)\n",
    "print(\"Classification Report:\\n\")\n",
    "print(report)"
   ]
  },
  {
   "cell_type": "code",
   "execution_count": 51,
   "metadata": {},
   "outputs": [
    {
     "data": {
      "image/png": "[encoded data removed]",
      "text/plain": [
       "<Figure size 720x576 with 1 Axes>"
      ]
     },
     "metadata": {},
     "output_type": "display_data"
    }
   ],
   "source": [
    "# Binarize the labels for each class\n",
    "y_test_bin = label_binarize(y_test, classes=np.unique(y_test))\n",
    "n_classes = y_test_bin.shape[1]\n",
    "\n",
    "# Predict probabilities for each class\n",
    "y_prob = best_grid_search.predict_proba(X_test)\n",
    "\n",
    "# Compute ROC curve and ROC area for each class\n",
    "fpr = dict()\n",
    "tpr = dict()\n",
    "roc_auc = dict()\n",
    "for i in range(n_classes):\n",
    "    fpr[i], tpr[i], _ = roc_curve(y_test_bin[:, i], y_prob[:, i])\n",
    "    roc_auc[i] = auc(fpr[i], tpr[i])\n",
    "\n",
    "# Plot all ROC curves\n",
    "plt.figure(figsize=(10, 8))\n",
    "colors = plt.cm.get_cmap('tab10', n_classes)\n",
    "\n",
    "for i in range(n_classes):\n",
    "    plt.plot(fpr[i], tpr[i], color=colors(i), lw=2, \n",
    "             label=f'Class {i} (AUC = {roc_auc[i]:.4f})')\n",
    "\n",
    "plt.plot([0, 1], [0, 1], color='gray', linestyle='--')\n",
    "plt.xlim([0.0, 1.0])\n",
    "plt.ylim([0.0, 1.05])\n",
    "plt.xlabel('False Positive Rate')\n",
    "plt.ylabel('True Positive Rate')\n",
    "plt.title('Multiclass Receiver Operating Characteristic (ROC) Curve')\n",
    "plt.legend(loc='lower right')\n",
    "plt.grid()\n",
    "plt.show()"
   ]
  },
  {
   "cell_type": "markdown",
   "metadata": {},
   "source": [
    "It seems like we have captured most of the data represented. "
   ]
  },
  {
   "cell_type": "markdown",
   "metadata": {},
   "source": [
    "# A final written section summarizing your predictive pipeline in full, with a focus on ideas on how to further improve the model and what the deployed model may be useful for. Remember: this is still a business-oriented approach!"
   ]
  }
 ],
 "metadata": {
  "kernelspec": {
   "display_name": "learn-env",
   "language": "python",
   "name": "python3"
  },
  "language_info": {
   "codemirror_mode": {
    "name": "ipython",
    "version": 3
   },
   "file_extension": ".py",
   "mimetype": "text/x-python",
   "name": "python",
   "nbconvert_exporter": "python",
   "pygments_lexer": "ipython3",
   "version": "3.8.5"
  }
 },
 "nbformat": 4,
 "nbformat_minor": 2
}
